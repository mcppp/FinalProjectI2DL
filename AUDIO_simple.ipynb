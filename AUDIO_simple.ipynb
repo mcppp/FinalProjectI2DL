{
  "nbformat": 4,
  "nbformat_minor": 0,
  "metadata": {
    "accelerator": "GPU",
    "colab": {
      "name": "AUDIO_simple.ipynb",
      "provenance": [],
      "collapsed_sections": [],
      "include_colab_link": true
    },
    "kernelspec": {
      "display_name": "Python 3",
      "language": "python",
      "name": "python3"
    },
    "widgets": {
      "application/vnd.jupyter.widget-state+json": {
        "ca61f2d8756343ceaa34faabd929dbac": {
          "model_module": "@jupyter-widgets/controls",
          "model_name": "HBoxModel",
          "state": {
            "_view_name": "HBoxView",
            "_dom_classes": [],
            "_model_name": "HBoxModel",
            "_view_module": "@jupyter-widgets/controls",
            "_model_module_version": "1.5.0",
            "_view_count": null,
            "_view_module_version": "1.5.0",
            "box_style": "",
            "layout": "IPY_MODEL_3f1a1bad6291435fb8dd2645dcb046fe",
            "_model_module": "@jupyter-widgets/controls",
            "children": [
              "IPY_MODEL_f4dcdba5d6fc4e41b481ea91e2938ab0",
              "IPY_MODEL_6c771a076e314ad7a8583b8f422437f3"
            ]
          }
        },
        "3f1a1bad6291435fb8dd2645dcb046fe": {
          "model_module": "@jupyter-widgets/base",
          "model_name": "LayoutModel",
          "state": {
            "_view_name": "LayoutView",
            "grid_template_rows": null,
            "right": null,
            "justify_content": null,
            "_view_module": "@jupyter-widgets/base",
            "overflow": null,
            "_model_module_version": "1.2.0",
            "_view_count": null,
            "flex_flow": null,
            "width": null,
            "min_width": null,
            "border": null,
            "align_items": null,
            "bottom": null,
            "_model_module": "@jupyter-widgets/base",
            "top": null,
            "grid_column": null,
            "overflow_y": null,
            "overflow_x": null,
            "grid_auto_flow": null,
            "grid_area": null,
            "grid_template_columns": null,
            "flex": null,
            "_model_name": "LayoutModel",
            "justify_items": null,
            "grid_row": null,
            "max_height": null,
            "align_content": null,
            "visibility": null,
            "align_self": null,
            "height": null,
            "min_height": null,
            "padding": null,
            "grid_auto_rows": null,
            "grid_gap": null,
            "max_width": null,
            "order": null,
            "_view_module_version": "1.2.0",
            "grid_template_areas": null,
            "object_position": null,
            "object_fit": null,
            "grid_auto_columns": null,
            "margin": null,
            "display": null,
            "left": null
          }
        },
        "f4dcdba5d6fc4e41b481ea91e2938ab0": {
          "model_module": "@jupyter-widgets/controls",
          "model_name": "FloatProgressModel",
          "state": {
            "_view_name": "ProgressView",
            "style": "IPY_MODEL_91ba3edf37214b89a6d13d011d734dd4",
            "_dom_classes": [],
            "description": "100%",
            "_model_name": "FloatProgressModel",
            "bar_style": "success",
            "max": 1000,
            "_view_module": "@jupyter-widgets/controls",
            "_model_module_version": "1.5.0",
            "value": 1000,
            "_view_count": null,
            "_view_module_version": "1.5.0",
            "orientation": "horizontal",
            "min": 0,
            "description_tooltip": null,
            "_model_module": "@jupyter-widgets/controls",
            "layout": "IPY_MODEL_11c7cdf065df406eaf147793f264d3a9"
          }
        },
        "6c771a076e314ad7a8583b8f422437f3": {
          "model_module": "@jupyter-widgets/controls",
          "model_name": "HTMLModel",
          "state": {
            "_view_name": "HTMLView",
            "style": "IPY_MODEL_83cccad988e247aba2b0272050c2c3f2",
            "_dom_classes": [],
            "description": "",
            "_model_name": "HTMLModel",
            "placeholder": "​",
            "_view_module": "@jupyter-widgets/controls",
            "_model_module_version": "1.5.0",
            "value": " 1000/1000 [06:20&lt;00:00,  2.62it/s]",
            "_view_count": null,
            "_view_module_version": "1.5.0",
            "description_tooltip": null,
            "_model_module": "@jupyter-widgets/controls",
            "layout": "IPY_MODEL_e02d68ca5fdd46eba598295fb3030532"
          }
        },
        "91ba3edf37214b89a6d13d011d734dd4": {
          "model_module": "@jupyter-widgets/controls",
          "model_name": "ProgressStyleModel",
          "state": {
            "_view_name": "StyleView",
            "_model_name": "ProgressStyleModel",
            "description_width": "initial",
            "_view_module": "@jupyter-widgets/base",
            "_model_module_version": "1.5.0",
            "_view_count": null,
            "_view_module_version": "1.2.0",
            "bar_color": null,
            "_model_module": "@jupyter-widgets/controls"
          }
        },
        "11c7cdf065df406eaf147793f264d3a9": {
          "model_module": "@jupyter-widgets/base",
          "model_name": "LayoutModel",
          "state": {
            "_view_name": "LayoutView",
            "grid_template_rows": null,
            "right": null,
            "justify_content": null,
            "_view_module": "@jupyter-widgets/base",
            "overflow": null,
            "_model_module_version": "1.2.0",
            "_view_count": null,
            "flex_flow": null,
            "width": null,
            "min_width": null,
            "border": null,
            "align_items": null,
            "bottom": null,
            "_model_module": "@jupyter-widgets/base",
            "top": null,
            "grid_column": null,
            "overflow_y": null,
            "overflow_x": null,
            "grid_auto_flow": null,
            "grid_area": null,
            "grid_template_columns": null,
            "flex": null,
            "_model_name": "LayoutModel",
            "justify_items": null,
            "grid_row": null,
            "max_height": null,
            "align_content": null,
            "visibility": null,
            "align_self": null,
            "height": null,
            "min_height": null,
            "padding": null,
            "grid_auto_rows": null,
            "grid_gap": null,
            "max_width": null,
            "order": null,
            "_view_module_version": "1.2.0",
            "grid_template_areas": null,
            "object_position": null,
            "object_fit": null,
            "grid_auto_columns": null,
            "margin": null,
            "display": null,
            "left": null
          }
        },
        "83cccad988e247aba2b0272050c2c3f2": {
          "model_module": "@jupyter-widgets/controls",
          "model_name": "DescriptionStyleModel",
          "state": {
            "_view_name": "StyleView",
            "_model_name": "DescriptionStyleModel",
            "description_width": "",
            "_view_module": "@jupyter-widgets/base",
            "_model_module_version": "1.5.0",
            "_view_count": null,
            "_view_module_version": "1.2.0",
            "_model_module": "@jupyter-widgets/controls"
          }
        },
        "e02d68ca5fdd46eba598295fb3030532": {
          "model_module": "@jupyter-widgets/base",
          "model_name": "LayoutModel",
          "state": {
            "_view_name": "LayoutView",
            "grid_template_rows": null,
            "right": null,
            "justify_content": null,
            "_view_module": "@jupyter-widgets/base",
            "overflow": null,
            "_model_module_version": "1.2.0",
            "_view_count": null,
            "flex_flow": null,
            "width": null,
            "min_width": null,
            "border": null,
            "align_items": null,
            "bottom": null,
            "_model_module": "@jupyter-widgets/base",
            "top": null,
            "grid_column": null,
            "overflow_y": null,
            "overflow_x": null,
            "grid_auto_flow": null,
            "grid_area": null,
            "grid_template_columns": null,
            "flex": null,
            "_model_name": "LayoutModel",
            "justify_items": null,
            "grid_row": null,
            "max_height": null,
            "align_content": null,
            "visibility": null,
            "align_self": null,
            "height": null,
            "min_height": null,
            "padding": null,
            "grid_auto_rows": null,
            "grid_gap": null,
            "max_width": null,
            "order": null,
            "_view_module_version": "1.2.0",
            "grid_template_areas": null,
            "object_position": null,
            "object_fit": null,
            "grid_auto_columns": null,
            "margin": null,
            "display": null,
            "left": null
          }
        },
        "3a97fce770ca474996dd77eaa792ebbf": {
          "model_module": "@jupyter-widgets/controls",
          "model_name": "HBoxModel",
          "state": {
            "_view_name": "HBoxView",
            "_dom_classes": [],
            "_model_name": "HBoxModel",
            "_view_module": "@jupyter-widgets/controls",
            "_model_module_version": "1.5.0",
            "_view_count": null,
            "_view_module_version": "1.5.0",
            "box_style": "",
            "layout": "IPY_MODEL_64047851e59b4a2d9a5af20c6cc0bbb8",
            "_model_module": "@jupyter-widgets/controls",
            "children": [
              "IPY_MODEL_43de9ad2433244028b767c557f17c569",
              "IPY_MODEL_db32b16469094edca5790b6ad76f7bdd"
            ]
          }
        },
        "64047851e59b4a2d9a5af20c6cc0bbb8": {
          "model_module": "@jupyter-widgets/base",
          "model_name": "LayoutModel",
          "state": {
            "_view_name": "LayoutView",
            "grid_template_rows": null,
            "right": null,
            "justify_content": null,
            "_view_module": "@jupyter-widgets/base",
            "overflow": null,
            "_model_module_version": "1.2.0",
            "_view_count": null,
            "flex_flow": null,
            "width": null,
            "min_width": null,
            "border": null,
            "align_items": null,
            "bottom": null,
            "_model_module": "@jupyter-widgets/base",
            "top": null,
            "grid_column": null,
            "overflow_y": null,
            "overflow_x": null,
            "grid_auto_flow": null,
            "grid_area": null,
            "grid_template_columns": null,
            "flex": null,
            "_model_name": "LayoutModel",
            "justify_items": null,
            "grid_row": null,
            "max_height": null,
            "align_content": null,
            "visibility": null,
            "align_self": null,
            "height": null,
            "min_height": null,
            "padding": null,
            "grid_auto_rows": null,
            "grid_gap": null,
            "max_width": null,
            "order": null,
            "_view_module_version": "1.2.0",
            "grid_template_areas": null,
            "object_position": null,
            "object_fit": null,
            "grid_auto_columns": null,
            "margin": null,
            "display": null,
            "left": null
          }
        },
        "43de9ad2433244028b767c557f17c569": {
          "model_module": "@jupyter-widgets/controls",
          "model_name": "FloatProgressModel",
          "state": {
            "_view_name": "ProgressView",
            "style": "IPY_MODEL_a8c5316424324960b07e8f0a7d6043bd",
            "_dom_classes": [],
            "description": "100%",
            "_model_name": "FloatProgressModel",
            "bar_style": "success",
            "max": 144,
            "_view_module": "@jupyter-widgets/controls",
            "_model_module_version": "1.5.0",
            "value": 144,
            "_view_count": null,
            "_view_module_version": "1.5.0",
            "orientation": "horizontal",
            "min": 0,
            "description_tooltip": null,
            "_model_module": "@jupyter-widgets/controls",
            "layout": "IPY_MODEL_ac34ae34f9274eb2ab6f1faedf8fccc4"
          }
        },
        "db32b16469094edca5790b6ad76f7bdd": {
          "model_module": "@jupyter-widgets/controls",
          "model_name": "HTMLModel",
          "state": {
            "_view_name": "HTMLView",
            "style": "IPY_MODEL_53ff8d7547524fa4a396d784370e96ca",
            "_dom_classes": [],
            "description": "",
            "_model_name": "HTMLModel",
            "placeholder": "​",
            "_view_module": "@jupyter-widgets/controls",
            "_model_module_version": "1.5.0",
            "value": " 144/144 [00:08&lt;00:00, 17.71it/s]",
            "_view_count": null,
            "_view_module_version": "1.5.0",
            "description_tooltip": null,
            "_model_module": "@jupyter-widgets/controls",
            "layout": "IPY_MODEL_249a5b30300045dbb56fe49b4e83143c"
          }
        },
        "a8c5316424324960b07e8f0a7d6043bd": {
          "model_module": "@jupyter-widgets/controls",
          "model_name": "ProgressStyleModel",
          "state": {
            "_view_name": "StyleView",
            "_model_name": "ProgressStyleModel",
            "description_width": "initial",
            "_view_module": "@jupyter-widgets/base",
            "_model_module_version": "1.5.0",
            "_view_count": null,
            "_view_module_version": "1.2.0",
            "bar_color": null,
            "_model_module": "@jupyter-widgets/controls"
          }
        },
        "ac34ae34f9274eb2ab6f1faedf8fccc4": {
          "model_module": "@jupyter-widgets/base",
          "model_name": "LayoutModel",
          "state": {
            "_view_name": "LayoutView",
            "grid_template_rows": null,
            "right": null,
            "justify_content": null,
            "_view_module": "@jupyter-widgets/base",
            "overflow": null,
            "_model_module_version": "1.2.0",
            "_view_count": null,
            "flex_flow": null,
            "width": null,
            "min_width": null,
            "border": null,
            "align_items": null,
            "bottom": null,
            "_model_module": "@jupyter-widgets/base",
            "top": null,
            "grid_column": null,
            "overflow_y": null,
            "overflow_x": null,
            "grid_auto_flow": null,
            "grid_area": null,
            "grid_template_columns": null,
            "flex": null,
            "_model_name": "LayoutModel",
            "justify_items": null,
            "grid_row": null,
            "max_height": null,
            "align_content": null,
            "visibility": null,
            "align_self": null,
            "height": null,
            "min_height": null,
            "padding": null,
            "grid_auto_rows": null,
            "grid_gap": null,
            "max_width": null,
            "order": null,
            "_view_module_version": "1.2.0",
            "grid_template_areas": null,
            "object_position": null,
            "object_fit": null,
            "grid_auto_columns": null,
            "margin": null,
            "display": null,
            "left": null
          }
        },
        "53ff8d7547524fa4a396d784370e96ca": {
          "model_module": "@jupyter-widgets/controls",
          "model_name": "DescriptionStyleModel",
          "state": {
            "_view_name": "StyleView",
            "_model_name": "DescriptionStyleModel",
            "description_width": "",
            "_view_module": "@jupyter-widgets/base",
            "_model_module_version": "1.5.0",
            "_view_count": null,
            "_view_module_version": "1.2.0",
            "_model_module": "@jupyter-widgets/controls"
          }
        },
        "249a5b30300045dbb56fe49b4e83143c": {
          "model_module": "@jupyter-widgets/base",
          "model_name": "LayoutModel",
          "state": {
            "_view_name": "LayoutView",
            "grid_template_rows": null,
            "right": null,
            "justify_content": null,
            "_view_module": "@jupyter-widgets/base",
            "overflow": null,
            "_model_module_version": "1.2.0",
            "_view_count": null,
            "flex_flow": null,
            "width": null,
            "min_width": null,
            "border": null,
            "align_items": null,
            "bottom": null,
            "_model_module": "@jupyter-widgets/base",
            "top": null,
            "grid_column": null,
            "overflow_y": null,
            "overflow_x": null,
            "grid_auto_flow": null,
            "grid_area": null,
            "grid_template_columns": null,
            "flex": null,
            "_model_name": "LayoutModel",
            "justify_items": null,
            "grid_row": null,
            "max_height": null,
            "align_content": null,
            "visibility": null,
            "align_self": null,
            "height": null,
            "min_height": null,
            "padding": null,
            "grid_auto_rows": null,
            "grid_gap": null,
            "max_width": null,
            "order": null,
            "_view_module_version": "1.2.0",
            "grid_template_areas": null,
            "object_position": null,
            "object_fit": null,
            "grid_auto_columns": null,
            "margin": null,
            "display": null,
            "left": null
          }
        },
        "19ea0d6838c04d9b92eb139cedee6dba": {
          "model_module": "@jupyter-widgets/controls",
          "model_name": "HBoxModel",
          "state": {
            "_view_name": "HBoxView",
            "_dom_classes": [],
            "_model_name": "HBoxModel",
            "_view_module": "@jupyter-widgets/controls",
            "_model_module_version": "1.5.0",
            "_view_count": null,
            "_view_module_version": "1.5.0",
            "box_style": "",
            "layout": "IPY_MODEL_b8717220ae9e48a4a2a6c488e08a776c",
            "_model_module": "@jupyter-widgets/controls",
            "children": [
              "IPY_MODEL_8b3cbb8aed304bb19072ab8b2c8692dd",
              "IPY_MODEL_fd048e30cb44453f89b0f042ab1d7bdd"
            ]
          }
        },
        "b8717220ae9e48a4a2a6c488e08a776c": {
          "model_module": "@jupyter-widgets/base",
          "model_name": "LayoutModel",
          "state": {
            "_view_name": "LayoutView",
            "grid_template_rows": null,
            "right": null,
            "justify_content": null,
            "_view_module": "@jupyter-widgets/base",
            "overflow": null,
            "_model_module_version": "1.2.0",
            "_view_count": null,
            "flex_flow": null,
            "width": null,
            "min_width": null,
            "border": null,
            "align_items": null,
            "bottom": null,
            "_model_module": "@jupyter-widgets/base",
            "top": null,
            "grid_column": null,
            "overflow_y": null,
            "overflow_x": null,
            "grid_auto_flow": null,
            "grid_area": null,
            "grid_template_columns": null,
            "flex": null,
            "_model_name": "LayoutModel",
            "justify_items": null,
            "grid_row": null,
            "max_height": null,
            "align_content": null,
            "visibility": null,
            "align_self": null,
            "height": null,
            "min_height": null,
            "padding": null,
            "grid_auto_rows": null,
            "grid_gap": null,
            "max_width": null,
            "order": null,
            "_view_module_version": "1.2.0",
            "grid_template_areas": null,
            "object_position": null,
            "object_fit": null,
            "grid_auto_columns": null,
            "margin": null,
            "display": null,
            "left": null
          }
        },
        "8b3cbb8aed304bb19072ab8b2c8692dd": {
          "model_module": "@jupyter-widgets/controls",
          "model_name": "FloatProgressModel",
          "state": {
            "_view_name": "ProgressView",
            "style": "IPY_MODEL_9430344044f94f65b460b3008d5b6386",
            "_dom_classes": [],
            "description": "100%",
            "_model_name": "FloatProgressModel",
            "bar_style": "success",
            "max": 144,
            "_view_module": "@jupyter-widgets/controls",
            "_model_module_version": "1.5.0",
            "value": 144,
            "_view_count": null,
            "_view_module_version": "1.5.0",
            "orientation": "horizontal",
            "min": 0,
            "description_tooltip": null,
            "_model_module": "@jupyter-widgets/controls",
            "layout": "IPY_MODEL_b89b1c31b3694bf7b4aeac9eb8773821"
          }
        },
        "fd048e30cb44453f89b0f042ab1d7bdd": {
          "model_module": "@jupyter-widgets/controls",
          "model_name": "HTMLModel",
          "state": {
            "_view_name": "HTMLView",
            "style": "IPY_MODEL_1a15b0676238448b88a77298fc083921",
            "_dom_classes": [],
            "description": "",
            "_model_name": "HTMLModel",
            "placeholder": "​",
            "_view_module": "@jupyter-widgets/controls",
            "_model_module_version": "1.5.0",
            "value": " 144/144 [00:00&lt;00:00, 656.12it/s]",
            "_view_count": null,
            "_view_module_version": "1.5.0",
            "description_tooltip": null,
            "_model_module": "@jupyter-widgets/controls",
            "layout": "IPY_MODEL_b3ad6c1fa8cf48b691cc68fb8c123b23"
          }
        },
        "9430344044f94f65b460b3008d5b6386": {
          "model_module": "@jupyter-widgets/controls",
          "model_name": "ProgressStyleModel",
          "state": {
            "_view_name": "StyleView",
            "_model_name": "ProgressStyleModel",
            "description_width": "initial",
            "_view_module": "@jupyter-widgets/base",
            "_model_module_version": "1.5.0",
            "_view_count": null,
            "_view_module_version": "1.2.0",
            "bar_color": null,
            "_model_module": "@jupyter-widgets/controls"
          }
        },
        "b89b1c31b3694bf7b4aeac9eb8773821": {
          "model_module": "@jupyter-widgets/base",
          "model_name": "LayoutModel",
          "state": {
            "_view_name": "LayoutView",
            "grid_template_rows": null,
            "right": null,
            "justify_content": null,
            "_view_module": "@jupyter-widgets/base",
            "overflow": null,
            "_model_module_version": "1.2.0",
            "_view_count": null,
            "flex_flow": null,
            "width": null,
            "min_width": null,
            "border": null,
            "align_items": null,
            "bottom": null,
            "_model_module": "@jupyter-widgets/base",
            "top": null,
            "grid_column": null,
            "overflow_y": null,
            "overflow_x": null,
            "grid_auto_flow": null,
            "grid_area": null,
            "grid_template_columns": null,
            "flex": null,
            "_model_name": "LayoutModel",
            "justify_items": null,
            "grid_row": null,
            "max_height": null,
            "align_content": null,
            "visibility": null,
            "align_self": null,
            "height": null,
            "min_height": null,
            "padding": null,
            "grid_auto_rows": null,
            "grid_gap": null,
            "max_width": null,
            "order": null,
            "_view_module_version": "1.2.0",
            "grid_template_areas": null,
            "object_position": null,
            "object_fit": null,
            "grid_auto_columns": null,
            "margin": null,
            "display": null,
            "left": null
          }
        },
        "1a15b0676238448b88a77298fc083921": {
          "model_module": "@jupyter-widgets/controls",
          "model_name": "DescriptionStyleModel",
          "state": {
            "_view_name": "StyleView",
            "_model_name": "DescriptionStyleModel",
            "description_width": "",
            "_view_module": "@jupyter-widgets/base",
            "_model_module_version": "1.5.0",
            "_view_count": null,
            "_view_module_version": "1.2.0",
            "_model_module": "@jupyter-widgets/controls"
          }
        },
        "b3ad6c1fa8cf48b691cc68fb8c123b23": {
          "model_module": "@jupyter-widgets/base",
          "model_name": "LayoutModel",
          "state": {
            "_view_name": "LayoutView",
            "grid_template_rows": null,
            "right": null,
            "justify_content": null,
            "_view_module": "@jupyter-widgets/base",
            "overflow": null,
            "_model_module_version": "1.2.0",
            "_view_count": null,
            "flex_flow": null,
            "width": null,
            "min_width": null,
            "border": null,
            "align_items": null,
            "bottom": null,
            "_model_module": "@jupyter-widgets/base",
            "top": null,
            "grid_column": null,
            "overflow_y": null,
            "overflow_x": null,
            "grid_auto_flow": null,
            "grid_area": null,
            "grid_template_columns": null,
            "flex": null,
            "_model_name": "LayoutModel",
            "justify_items": null,
            "grid_row": null,
            "max_height": null,
            "align_content": null,
            "visibility": null,
            "align_self": null,
            "height": null,
            "min_height": null,
            "padding": null,
            "grid_auto_rows": null,
            "grid_gap": null,
            "max_width": null,
            "order": null,
            "_view_module_version": "1.2.0",
            "grid_template_areas": null,
            "object_position": null,
            "object_fit": null,
            "grid_auto_columns": null,
            "margin": null,
            "display": null,
            "left": null
          }
        }
      }
    }
  },
  "cells": [
    {
      "cell_type": "markdown",
      "metadata": {
        "id": "view-in-github",
        "colab_type": "text"
      },
      "source": [
        "<a href=\"https://colab.research.google.com/github/mcppp/FinalProjectI2DL/blob/main/AUDIO_simple.ipynb\" target=\"_parent\"><img src=\"https://colab.research.google.com/assets/colab-badge.svg\" alt=\"Open In Colab\"/></a>"
      ]
    },
    {
      "cell_type": "code",
      "metadata": {
        "colab": {
          "base_uri": "https://localhost:8080/"
        },
        "id": "87e4UUtGu7sU",
        "outputId": "8012503d-0731-4a72-e410-f73288206d90"
      },
      "source": [
        "import os\n",
        "from os import listdir\n",
        "from os.path import isfile, join\n",
        "import csv\n",
        "import numpy as np\n",
        "from tqdm.notebook import tqdm  #for visualization\n",
        "import sklearn\n",
        "from sklearn import model_selection\n",
        "\n",
        "import matplotlib.pyplot as plt\n",
        "\n",
        "import torch\n",
        "import torchvision\n",
        "import torch.nn as nn\n",
        "import torch.nn.functional as F   #for more detailed nn\n",
        "import torch.optim as optim\n",
        "from torch.utils.data import Dataset, DataLoader\n",
        "from torch.optim.lr_scheduler import StepLR\n",
        "\n",
        "import sys\n",
        "import librosa\n",
        "from google.colab import drive\n",
        "import soundfile\n",
        "import subprocess\n",
        "\n",
        "print(torch.__version__)"
      ],
      "execution_count": 1,
      "outputs": [
        {
          "output_type": "stream",
          "text": [
            "1.7.1+cu101\n"
          ],
          "name": "stdout"
        }
      ]
    },
    {
      "cell_type": "code",
      "metadata": {
        "id": "VNHlFqL5u8Id",
        "colab": {
          "base_uri": "https://localhost:8080/"
        },
        "outputId": "001e4e0f-ca48-44f7-cf2b-eb744262cce0"
      },
      "source": [
        "from google.colab import drive\n",
        "drive.mount('/content/drive')"
      ],
      "execution_count": 2,
      "outputs": [
        {
          "output_type": "stream",
          "text": [
            "Drive already mounted at /content/drive; to attempt to forcibly remount, call drive.mount(\"/content/drive\", force_remount=True).\n"
          ],
          "name": "stdout"
        }
      ]
    },
    {
      "cell_type": "code",
      "metadata": {
        "colab": {
          "base_uri": "https://localhost:8080/"
        },
        "id": "POTT4aCwvEjL",
        "outputId": "4b467e04-c969-42f8-fe11-74004ba7cb41"
      },
      "source": [
        "# device = 'cpu'   #in runtime, change runtime type to CPU\n",
        "device = 'cuda'\n",
        "print('Current Device : {}'.format(device))"
      ],
      "execution_count": 3,
      "outputs": [
        {
          "output_type": "stream",
          "text": [
            "Current Device : cuda\n"
          ],
          "name": "stdout"
        }
      ]
    },
    {
      "cell_type": "code",
      "metadata": {
        "colab": {
          "base_uri": "https://localhost:8080/"
        },
        "id": "wZjw5_jXvR6G",
        "outputId": "0077040e-6183-4632-e9b4-63afab458b2b"
      },
      "source": [
        "#Loading data from npy arrays created by extracting audio features in the other notebook\n",
        "feature_matrix=np.load('./drive/MyDrive/ABGABE I2DL/AUDIO_RAVDESS/feature_matrix.npy')  #modify the path as needed\n",
        "sample_labels=np.load('./drive/MyDrive/ABGABE I2DL/AUDIO_RAVDESS/labels.npy') #modify the path as needed\n",
        "fixed_labels = np.int64(sample_labels)-np.ones(len(sample_labels)) #adapting labels (they will start at label 0 instead of label 1)\n",
        "\n",
        "print(feature_matrix.shape) #(1440, 193)\n",
        "print(fixed_labels.shape) #(1440,)"
      ],
      "execution_count": 4,
      "outputs": [
        {
          "output_type": "stream",
          "text": [
            "(1440, 193)\n",
            "(1440,)\n"
          ],
          "name": "stdout"
        }
      ]
    },
    {
      "cell_type": "code",
      "metadata": {
        "colab": {
          "base_uri": "https://localhost:8080/"
        },
        "id": "sW1g-R9evgDN",
        "outputId": "14db5789-5f4a-4957-88fe-b13e761910cb"
      },
      "source": [
        "#Splitting into train val set\n",
        "X_train, X_test, y_train, y_test = model_selection.train_test_split(feature_matrix, fixed_labels, test_size=0.2, random_state=42)\n",
        "X_val, X_test, y_val, y_test = model_selection.train_test_split(X_test, y_test, test_size=0.5)\n",
        "\n",
        "print(X_train.shape)\n",
        "print(X_test.shape)\n",
        "print(X_val.shape)\n",
        "print(y_train.shape)\n",
        "print(y_test.shape)\n",
        "print(type(X_train))\n",
        "print(type(y_train))"
      ],
      "execution_count": 5,
      "outputs": [
        {
          "output_type": "stream",
          "text": [
            "(1152, 193)\n",
            "(144, 193)\n",
            "(144, 193)\n",
            "(1152,)\n",
            "(144,)\n",
            "<class 'numpy.ndarray'>\n",
            "<class 'numpy.ndarray'>\n"
          ],
          "name": "stdout"
        }
      ]
    },
    {
      "cell_type": "code",
      "metadata": {
        "id": "OGOUZOvTxVHF"
      },
      "source": [
        "#Define dataset\n",
        "class RAVDESS_Dataset(Dataset):\n",
        "    def __init__(self, target_audio, target_label):\n",
        "        \n",
        "        self.target_audio = target_audio\n",
        "        self.target_label = target_label\n",
        "        self.num_data = target_audio.shape[0]  \n",
        "        \n",
        "\n",
        "    def __len__(self):\n",
        "      return self.num_data\n",
        "      \n",
        "        \n",
        "    def __getitem__(self, idx):\n",
        "       sample = dict()\n",
        "       sample['features'] =self.target_audio[idx]   # 'input'\n",
        "       sample['label']= self.target_label[idx]  # 'output'\n",
        "\n",
        "       return sample\n",
        "        "
      ],
      "execution_count": 6,
      "outputs": []
    },
    {
      "cell_type": "code",
      "metadata": {
        "colab": {
          "base_uri": "https://localhost:8080/"
        },
        "id": "KmyLskrJzjnK",
        "outputId": "ccd293b3-7ce8-4461-e178-98dc4cd3e7fa"
      },
      "source": [
        "#Define dataloader\n",
        "batch_size = 256\n",
        "\n",
        "# Define dataset for train, test, validation \n",
        "train_dataset = RAVDESS_Dataset(X_train,y_train)\n",
        "test_dataset = RAVDESS_Dataset(X_test, y_test)\n",
        "val_dataset = RAVDESS_Dataset(X_val, y_val)\n",
        "\n",
        "#Checking type of dataset\n",
        "print(type(train_dataset[0]['features']))\n",
        "print(type(train_dataset[0]['label']))\n",
        "\n",
        "# Define dataloader for train/test/val\n",
        "train_dataloader = DataLoader(train_dataset, batch_size=batch_size, shuffle=True) #we shuffle train data\n",
        "test_dataloader = DataLoader(test_dataset, batch_size=1, shuffle=False)\n",
        "val_dataloader = DataLoader(val_dataset, batch_size=1, shuffle=False)\n"
      ],
      "execution_count": 7,
      "outputs": [
        {
          "output_type": "stream",
          "text": [
            "<class 'numpy.ndarray'>\n",
            "<class 'numpy.float64'>\n"
          ],
          "name": "stdout"
        }
      ]
    },
    {
      "cell_type": "code",
      "metadata": {
        "id": "JT_K4QH66ToB"
      },
      "source": [
        "class CNNs(nn.Module): #CNNs class inherits from nn.Module, in order to do gradient, forward automatically\n",
        "    def __init__(self, channels= [64 , 128], dim_output=8):\n",
        "        super(CNNs, self).__init__() \n",
        "        \n",
        "        self.channels = channels \n",
        "        self.dim_output = dim_output\n",
        "\n",
        "        self.conv1 = nn.Conv1d(1,self.channels[0], kernel_size=3, stride=1) \n",
        "        self.conv2 = nn.Conv1d(self.channels[0],self.channels[1], kernel_size=3, stride=1) \n",
        "\n",
        "        self.activation = nn.ReLU()\n",
        "        \n",
        "        self.flatten=nn.Flatten()\n",
        "\n",
        "        self.fc1 = nn.Linear(24192, 24192//12)\n",
        "        self.fc2 = nn.Linear(24192//12, self.dim_output)\n",
        "      \n",
        "        self.dropout = nn.Dropout(p=0.3)\n",
        "        \n",
        "\n",
        "    def forward(self, input_s):\n",
        "        \n",
        "       out = self.conv1(input_s)\n",
        "       out = self.activation(out)\n",
        "       out = self.dropout(out)\n",
        "       out = self.conv2(out)\n",
        "       out = self.activation(out)\n",
        "       out = self.dropout(out)\n",
        "       out = self.flatten(out)\n",
        "       out = self.dropout(self.activation(self.fc1(out)))\n",
        "       out = self.activation(self.fc2(out))\n",
        "        \n",
        "       return out"
      ],
      "execution_count": 8,
      "outputs": []
    },
    {
      "cell_type": "code",
      "metadata": {
        "id": "7M-wfOmZyptu"
      },
      "source": [
        "# Define the Model\n",
        "model = CNNs() #defining hidden layer dimensions\n",
        "\n",
        "#Define optimizer\n",
        "optimizer = optim.Adam(model.parameters(), lr =1e-4)\n"
      ],
      "execution_count": 9,
      "outputs": []
    },
    {
      "cell_type": "code",
      "metadata": {
        "colab": {
          "base_uri": "https://localhost:8080/"
        },
        "id": "BaUNbe2G1k1o",
        "outputId": "70b801f2-56b0-4a11-c073-5936cc8f22ad"
      },
      "source": [
        "#Printing model information\r\n",
        "print(model)"
      ],
      "execution_count": 10,
      "outputs": [
        {
          "output_type": "stream",
          "text": [
            "CNNs(\n",
            "  (conv1): Conv1d(1, 64, kernel_size=(3,), stride=(1,))\n",
            "  (conv2): Conv1d(64, 128, kernel_size=(3,), stride=(1,))\n",
            "  (activation): ReLU()\n",
            "  (flatten): Flatten(start_dim=1, end_dim=-1)\n",
            "  (fc1): Linear(in_features=24192, out_features=2016, bias=True)\n",
            "  (fc2): Linear(in_features=2016, out_features=8, bias=True)\n",
            "  (dropout): Dropout(p=0.3, inplace=False)\n",
            ")\n"
          ],
          "name": "stdout"
        }
      ]
    },
    {
      "cell_type": "code",
      "metadata": {
        "id": "d9abkUe41nMH"
      },
      "source": [
        "def train(model, optimizer, sample):\n",
        "    model.train()\n",
        "    model = model.to(device)\n",
        "\n",
        "    # Define the Loss for multi-class classification\n",
        "    criterion = nn.CrossEntropyLoss() \n",
        "    \n",
        "    # Clean up the Optimizer (delete gradient we had defined before)\n",
        "    optimizer.zero_grad()\n",
        "\n",
        "    # Set Input and Output\n",
        "    features = torch.unsqueeze(sample['features'].float(),1).to(device)\n",
        "    label = sample['label'].long().to(device) #label is idx of class that we have\n",
        "\n",
        "    # Get prediction from the model    \n",
        "    pred = model(features) #should give a a tensor with probabilities of the image belonging to each of the classes\n",
        "\n",
        "    # Calculate number of correct prediction.\n",
        "    num_correct = sum(torch.argmax(pred, dim=1) == label) #compare highest probability in the output tensor with the true label, add only correct predictions\n",
        "    \n",
        "    # Get the Loss from prediction and ground truth label\n",
        "    pred_loss = criterion(pred,label.to(device)) \n",
        "\n",
        "    # Get the gradient (backprop), and update optimizer\n",
        "    pred_loss.backward()\n",
        "    optimizer.step()\n",
        "\n",
        "    return pred_loss.item(), num_correct.item()"
      ],
      "execution_count": 11,
      "outputs": []
    },
    {
      "cell_type": "code",
      "metadata": {
        "id": "LDovXxxL1omV"
      },
      "source": [
        "def test(model, sample):\n",
        "    model.eval()\n",
        "\n",
        "    # Define the Loss for multi-class classification\n",
        "    criterion = nn.CrossEntropyLoss()\n",
        "\n",
        "    # Get the result without computing the gradient\n",
        "    with torch.no_grad():\n",
        "        # Set input and output\n",
        "        features = torch.unsqueeze(sample['features'].float(),1).to(device)\n",
        "        label = sample['label'].long().to(device)\n",
        "\n",
        "        # Get prediction from the model    \n",
        "        pred = model(features)\n",
        "\n",
        "        # Calculate number of correct predictions\n",
        "        num_correct = sum(torch.argmax(pred, dim=1) == label)\n",
        "\n",
        "        # Get the Loss from prediction and ground truth label\n",
        "        pred_loss = criterion(pred,label.to(device)) \n",
        "\n",
        "    return pred_loss.item(), num_correct.item(),pred"
      ],
      "execution_count": 12,
      "outputs": []
    },
    {
      "cell_type": "code",
      "metadata": {
        "id": "x9pYcYrj0qjr"
      },
      "source": [
        "#Creating empty lists to save information to plot the train/val curve later\n",
        "val_list =list()\n",
        "train_list =list()\n",
        "epochs_list = list()"
      ],
      "execution_count": 13,
      "outputs": []
    },
    {
      "cell_type": "code",
      "metadata": {
        "colab": {
          "base_uri": "https://localhost:8080/",
          "height": 1000,
          "referenced_widgets": [
            "ca61f2d8756343ceaa34faabd929dbac",
            "3f1a1bad6291435fb8dd2645dcb046fe",
            "f4dcdba5d6fc4e41b481ea91e2938ab0",
            "6c771a076e314ad7a8583b8f422437f3",
            "91ba3edf37214b89a6d13d011d734dd4",
            "11c7cdf065df406eaf147793f264d3a9",
            "83cccad988e247aba2b0272050c2c3f2",
            "e02d68ca5fdd46eba598295fb3030532"
          ]
        },
        "id": "pE7ZVFcc1xf1",
        "outputId": "818c713e-8a85-4524-cf1a-8d5670da95dc"
      },
      "source": [
        "#TRAINING AND VALIDATING\n",
        "\n",
        "max_epoch = 1000\n",
        "\n",
        "\n",
        "for epoch in tqdm(range(max_epoch)):  \n",
        "    \n",
        "   #############################Train Phase######################################\n",
        "    \n",
        "    # Initialize Loss and Accuracy\n",
        "    train_loss = 0.0\n",
        "    train_accu = 0.0\n",
        "\n",
        "\n",
        "    # Iterate over the train_dataloader\n",
        "    for idx, sample in enumerate(train_dataloader):\n",
        "        curr_loss, num_correct = train(model, optimizer, sample) #model optimized with that optimizer, sample enumerated from train_dataloader\n",
        "        train_loss += curr_loss / len(train_dataloader)  #average loss value\n",
        "        train_accu += num_correct / len(train_dataset)  #average accuracy\n",
        "\n",
        "   \n",
        "   #############################Validate Phase######################################\n",
        "    \n",
        "    # # Initialize Loss and Accuracy\n",
        "    val_loss = 0.0\n",
        "    val_accu = 0.0\n",
        "\n",
        "    # Iterate over the test_dataloader\n",
        "    for idx, sample in enumerate(val_dataloader):\n",
        "        curr_loss, num_correct,_ = test(model, sample)\n",
        "        val_loss += curr_loss / len(val_dataloader)\n",
        "        val_accu += num_correct / len(val_dataloader)\n",
        "\n",
        "      \n",
        "    if epoch % 10 == 0: #saving information and printing train/validation accuracy every 10 epochs\n",
        "      train_list.append(train_accu)\n",
        "      val_list.append(val_accu)\n",
        "      epochs_list.append(epoch)\n",
        "      print(train_accu, val_accu)"
      ],
      "execution_count": 14,
      "outputs": [
        {
          "output_type": "display_data",
          "data": {
            "application/vnd.jupyter.widget-view+json": {
              "model_id": "ca61f2d8756343ceaa34faabd929dbac",
              "version_minor": 0,
              "version_major": 2
            },
            "text/plain": [
              "HBox(children=(FloatProgress(value=0.0, max=1000.0), HTML(value='')))"
            ]
          },
          "metadata": {
            "tags": []
          }
        },
        {
          "output_type": "stream",
          "text": [
            "0.11458333333333333 0.1180555555555556\n",
            "0.1362847222222222 0.13888888888888892\n",
            "0.14843749999999997 0.1666666666666667\n",
            "0.16666666666666666 0.1666666666666667\n",
            "0.16493055555555555 0.1805555555555556\n",
            "0.1623263888888889 0.1805555555555556\n",
            "0.1684027777777778 0.1805555555555556\n",
            "0.18142361111111113 0.18750000000000006\n",
            "0.2421875 0.2361111111111112\n",
            "0.2517361111111111 0.25000000000000006\n",
            "0.2534722222222222 0.24305555555555564\n",
            "0.2664930555555556 0.2638888888888889\n",
            "0.2630208333333333 0.25000000000000006\n",
            "0.2586805555555556 0.25000000000000006\n",
            "0.2664930555555556 0.25000000000000006\n",
            "0.2612847222222222 0.2361111111111112\n",
            "0.2734375 0.2569444444444445\n",
            "0.2708333333333333 0.24305555555555564\n",
            "0.4149305555555555 0.43055555555555497\n",
            "0.42361111111111116 0.4374999999999994\n",
            "0.43489583333333337 0.45138888888888823\n",
            "0.4487847222222222 0.48611111111111033\n",
            "0.5069444444444444 0.48611111111111033\n",
            "0.6059027777777779 0.5347222222222213\n",
            "0.6371527777777778 0.5416666666666657\n",
            "0.6640625000000001 0.562499999999999\n",
            "0.6970486111111112 0.5972222222222211\n",
            "0.7960069444444445 0.7013888888888874\n",
            "0.8246527777777778 0.7222222222222207\n",
            "0.8472222222222222 0.7222222222222207\n",
            "0.8559027777777778 0.7361111111111095\n",
            "0.875 0.7499999999999983\n",
            "0.8906249999999999 0.7361111111111095\n",
            "0.8897569444444445 0.7499999999999983\n",
            "0.8940972222222221 0.7569444444444428\n",
            "0.9010416666666666 0.7638888888888872\n",
            "0.9184027777777778 0.7708333333333316\n",
            "0.9253472222222222 0.7708333333333316\n",
            "0.9279513888888888 0.7708333333333316\n",
            "0.9340277777777777 0.777777777777776\n",
            "0.9340277777777778 0.7708333333333316\n",
            "0.9383680555555555 0.7708333333333316\n",
            "0.9444444444444444 0.7847222222222204\n",
            "0.9496527777777778 0.7847222222222204\n",
            "0.9487847222222222 0.7847222222222204\n",
            "0.9496527777777778 0.7708333333333316\n",
            "0.9600694444444445 0.7847222222222204\n",
            "0.9548611111111112 0.7708333333333316\n",
            "0.9661458333333333 0.777777777777776\n",
            "0.9661458333333333 0.7916666666666649\n",
            "0.9678819444444445 0.777777777777776\n",
            "0.9696180555555556 0.7708333333333316\n",
            "0.9626736111111112 0.7708333333333316\n",
            "0.9722222222222222 0.777777777777776\n",
            "0.9739583333333334 0.7916666666666649\n",
            "0.974826388888889 0.7847222222222204\n",
            "0.9739583333333333 0.7708333333333316\n",
            "0.9782986111111112 0.777777777777776\n",
            "0.9765625 0.7986111111111093\n",
            "0.9704861111111112 0.7847222222222204\n",
            "0.9713541666666667 0.7916666666666649\n",
            "0.9756944444444445 0.7708333333333316\n",
            "0.96875 0.7847222222222204\n",
            "0.9852430555555555 0.7638888888888872\n",
            "0.9809027777777778 0.8055555555555537\n",
            "0.9765625 0.7916666666666649\n",
            "0.9800347222222221 0.7847222222222204\n",
            "0.9800347222222223 0.7708333333333316\n",
            "0.9800347222222222 0.7986111111111093\n",
            "0.9817708333333334 0.7847222222222204\n",
            "0.9782986111111112 0.8124999999999981\n",
            "0.9817708333333333 0.8055555555555537\n",
            "0.9817708333333333 0.8055555555555537\n",
            "0.9835069444444444 0.7847222222222204\n",
            "0.9791666666666667 0.8055555555555537\n",
            "0.9800347222222221 0.7847222222222204\n",
            "0.9817708333333334 0.8055555555555537\n",
            "0.9878472222222223 0.8194444444444425\n",
            "0.9921875 0.7847222222222204\n",
            "0.984375 0.7847222222222204\n",
            "0.984375 0.7916666666666649\n",
            "0.9817708333333334 0.7986111111111093\n",
            "0.9852430555555556 0.8055555555555537\n",
            "0.9895833333333333 0.7986111111111093\n",
            "0.984375 0.8055555555555537\n",
            "0.9869791666666666 0.8124999999999981\n",
            "0.9887152777777779 0.7986111111111093\n",
            "0.9861111111111112 0.7847222222222204\n",
            "0.9878472222222222 0.7986111111111093\n",
            "0.9895833333333333 0.7916666666666649\n",
            "0.9895833333333333 0.8124999999999981\n",
            "0.9913194444444444 0.7916666666666649\n",
            "0.9930555555555556 0.7916666666666649\n",
            "0.9913194444444444 0.7986111111111093\n",
            "0.9878472222222222 0.7916666666666649\n",
            "0.9861111111111112 0.7847222222222204\n",
            "0.9904513888888888 0.7916666666666649\n",
            "0.9861111111111112 0.7708333333333316\n",
            "0.9887152777777779 0.8055555555555537\n",
            "0.9921875 0.8055555555555537\n",
            "\n"
          ],
          "name": "stdout"
        }
      ]
    },
    {
      "cell_type": "code",
      "metadata": {
        "colab": {
          "base_uri": "https://localhost:8080/",
          "height": 363
        },
        "id": "Edyd93pq9WiZ",
        "outputId": "fd33c611-6ebc-499a-b0f2-af1df6cff83f"
      },
      "source": [
        "##Plotting train vs. validation accuracy curve\r\n",
        "arr_epochs =np.array(epochs_list)\r\n",
        "arr_val =np.array(val_list)\r\n",
        "arr_train = np.array(train_list)\r\n",
        "print(arr_epochs.shape)\r\n",
        "print(arr_val.shape)\r\n",
        "print(arr_train.shape)\r\n",
        "\r\n",
        "\r\n",
        "f = plt.figure()\r\n",
        "ax = f.add_subplot(111)\r\n",
        "ax.plot(arr_epochs, arr_val,  label=\"Validation accuracy\")\r\n",
        "ax.plot(arr_epochs, arr_train,  label=\"Train accuracy\")\r\n",
        "ax.legend()\r\n",
        "\r\n",
        "ax.set_xlabel('Epochs')\r\n",
        "ax.set_ylabel('Accuracy')\r\n",
        "ax.set_title('Train vs. Validation accuracy')"
      ],
      "execution_count": 20,
      "outputs": [
        {
          "output_type": "stream",
          "text": [
            "(100,)\n",
            "(100,)\n",
            "(100,)\n"
          ],
          "name": "stdout"
        },
        {
          "output_type": "execute_result",
          "data": {
            "text/plain": [
              "Text(0.5, 1.0, 'Train vs. Validation accuracy')"
            ]
          },
          "metadata": {
            "tags": []
          },
          "execution_count": 20
        },
        {
          "output_type": "display_data",
          "data": {
            "image/png": "[encoded data removed]",
            "text/plain": [
              "<Figure size 432x288 with 1 Axes>"
            ]
          },
          "metadata": {
            "tags": [],
            "needs_background": "light"
          }
        }
      ]
    },
    {
      "cell_type": "code",
      "metadata": {
        "id": "QAi2gWfa6Hmn"
      },
      "source": [
        "# ##Load already trained\r\n",
        "# best_path=torch.load('./drive/MyDrive/ABGABE I2DL/AUDIO_RAVDESS/audio_best.pth')  ##modify the path as needed\r\n",
        "# model.load_state_dict(best_path['model_state_dict'])"
      ],
      "execution_count": 16,
      "outputs": []
    },
    {
      "cell_type": "code",
      "metadata": {
        "colab": {
          "base_uri": "https://localhost:8080/",
          "height": 83,
          "referenced_widgets": [
            "3a97fce770ca474996dd77eaa792ebbf",
            "64047851e59b4a2d9a5af20c6cc0bbb8",
            "43de9ad2433244028b767c557f17c569",
            "db32b16469094edca5790b6ad76f7bdd",
            "a8c5316424324960b07e8f0a7d6043bd",
            "ac34ae34f9274eb2ab6f1faedf8fccc4",
            "53ff8d7547524fa4a396d784370e96ca",
            "249a5b30300045dbb56fe49b4e83143c"
          ]
        },
        "id": "pA_SBms96RJS",
        "outputId": "83ce96ec-9fba-4af5-e3a4-8c7d636d91cd"
      },
      "source": [
        "# Reporting accuracy on test set\r\n",
        "test_loss = 0.0\r\n",
        "test_accu = 0.0\r\n",
        "\r\n",
        "    # Iterate over the val_dataloader\r\n",
        "with tqdm(total=len(test_dataloader)) as pbar: # SUB PROGRESS BAR 2, up to 586 because that's the number of images in the 1 batch of val_dataloader\r\n",
        "    for idx, sample in enumerate(test_dataloader): # for each of the 586 images\r\n",
        "            curr_loss, num_correct,_ = test(model.to(device), sample)\r\n",
        "            test_loss += curr_loss / len(test_dataloader) # average validation loss\r\n",
        "            test_accu += num_correct / len(test_dataloader) # average accuracy\r\n",
        "            pbar.update(1) # update SUB PROGRESS BAR 2\r\n",
        "            \r\n",
        "print(test_loss, test_accu)"
      ],
      "execution_count": 21,
      "outputs": [
        {
          "output_type": "display_data",
          "data": {
            "application/vnd.jupyter.widget-view+json": {
              "model_id": "3a97fce770ca474996dd77eaa792ebbf",
              "version_minor": 0,
              "version_major": 2
            },
            "text/plain": [
              "HBox(children=(FloatProgress(value=0.0, max=144.0), HTML(value='')))"
            ]
          },
          "metadata": {
            "tags": []
          }
        },
        {
          "output_type": "stream",
          "text": [
            "\n",
            "0.9740806014329693 0.777777777777776\n"
          ],
          "name": "stdout"
        }
      ]
    },
    {
      "cell_type": "code",
      "metadata": {
        "colab": {
          "base_uri": "https://localhost:8080/",
          "height": 202,
          "referenced_widgets": [
            "19ea0d6838c04d9b92eb139cedee6dba",
            "b8717220ae9e48a4a2a6c488e08a776c",
            "8b3cbb8aed304bb19072ab8b2c8692dd",
            "fd048e30cb44453f89b0f042ab1d7bdd",
            "9430344044f94f65b460b3008d5b6386",
            "b89b1c31b3694bf7b4aeac9eb8773821",
            "1a15b0676238448b88a77298fc083921",
            "b3ad6c1fa8cf48b691cc68fb8c123b23"
          ]
        },
        "id": "2pujNHPA0qjs",
        "outputId": "411f5b01-bbaf-43a7-8529-5ff4f41a4c1d"
      },
      "source": [
        "##Printing confusion matrix (reporting based on TEST SET)\n",
        "\n",
        "nb_classes = 8\n",
        "predictions= np.zeros(len(test_dataset))\n",
        "labels= np.zeros(len(test_dataset))\n",
        "\n",
        "with tqdm(total=len(test_dataloader)) as pbar:\n",
        "    confusion_matrix = torch.zeros(nb_classes, nb_classes)\n",
        "    with torch.no_grad():\n",
        "        for idx, sample in enumerate(test_dataloader):\n",
        "            labels[idx]=sample['label'].item()\n",
        "            _, _, outputs = test(model, sample)\n",
        "            _, preds = torch.max(outputs, 1)\n",
        "            predictions[idx] = preds\n",
        "            for t, p in zip(sample['label'].view(-1), preds.view(-1)):\n",
        "                confusion_matrix[t.long(), p.long()] += 1\n",
        "            pbar.update(1) # update SUB PROGRESS BAR 2\n",
        "\n",
        "print(confusion_matrix)"
      ],
      "execution_count": 22,
      "outputs": [
        {
          "output_type": "display_data",
          "data": {
            "application/vnd.jupyter.widget-view+json": {
              "model_id": "19ea0d6838c04d9b92eb139cedee6dba",
              "version_minor": 0,
              "version_major": 2
            },
            "text/plain": [
              "HBox(children=(FloatProgress(value=0.0, max=144.0), HTML(value='')))"
            ]
          },
          "metadata": {
            "tags": []
          }
        },
        {
          "output_type": "stream",
          "text": [
            "\n",
            "tensor([[ 3.,  4.,  0.,  1.,  0.,  0.,  0.,  0.],\n",
            "        [ 0., 24.,  0.,  1.,  0.,  0.,  0.,  0.],\n",
            "        [ 0.,  1., 11.,  2.,  0.,  3.,  0.,  0.],\n",
            "        [ 0.,  1.,  0., 13.,  0.,  0.,  0.,  0.],\n",
            "        [ 0.,  0.,  1.,  1., 16.,  1.,  0.,  0.],\n",
            "        [ 0.,  1.,  1.,  1.,  0., 14.,  0.,  0.],\n",
            "        [ 0.,  2.,  0.,  1.,  1.,  0., 14.,  1.],\n",
            "        [ 1.,  0.,  2.,  1.,  3.,  1.,  0., 17.]])\n"
          ],
          "name": "stdout"
        }
      ]
    },
    {
      "cell_type": "code",
      "metadata": {
        "id": "TVUZqaEP0qjt",
        "colab": {
          "base_uri": "https://localhost:8080/",
          "height": 311
        },
        "outputId": "d4b994f6-e3c5-4672-88d2-777a90146736"
      },
      "source": [
        "#Displaying confusion matrix as Heatmap\n",
        "\n",
        "import seaborn as sns\n",
        "import matplotlib.pyplot as plt     \n",
        "\n",
        "ax= plt.subplot()\n",
        " \n",
        "# labels, title and ticks\n",
        "sns.heatmap(confusion_matrix, annot=True, ax = ax,fmt='g',cmap='Greens'); #annot=True to annotate cells\n",
        "plt.yticks(rotation=0) \n",
        "plt.xticks(rotation=-20) \n",
        "ax.set_xlabel('Predicted labels');ax.set_ylabel('True labels'); \n",
        "ax.set_title('Confusion Matrix'); \n",
        "ax.xaxis.set_ticklabels([\"neutral\", \"calm\", \"happy\", \"sad\", \"angry\", \"fearful\", \"disgust\", \"surprised\"]); ax.yaxis.set_ticklabels([\"neutral\", \"calm\", \"happy\", \"sad\", \"angry\", \"fearful\", \"disgust\", \"surprised\"]);"
      ],
      "execution_count": 23,
      "outputs": [
        {
          "output_type": "display_data",
          "data": {
            "image/png": "[encoded data removed]",
            "text/plain": [
              "<Figure size 432x288 with 2 Axes>"
            ]
          },
          "metadata": {
            "tags": [],
            "needs_background": "light"
          }
        }
      ]
    },
    {
      "cell_type": "code",
      "metadata": {
        "id": "DLOOr0Pp0qju"
      },
      "source": [
        "\n",
        "\n"
      ],
      "execution_count": 19,
      "outputs": []
    }
  ]
}