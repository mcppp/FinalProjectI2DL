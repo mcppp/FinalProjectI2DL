{
  "nbformat": 4,
  "nbformat_minor": 0,
  "metadata": {
    "accelerator": "GPU",
    "colab": {
      "name": "AUDIO_simple.ipynb",
      "provenance": [],
      "collapsed_sections": [],
      "include_colab_link": true
    },
    "kernelspec": {
      "display_name": "Python 3",
      "language": "python",
      "name": "python3"
    },
    "widgets": {
      "application/vnd.jupyter.widget-state+json": {
        "07ad26cdbbd44865b41135dc4440f1b9": {
          "model_module": "@jupyter-widgets/controls",
          "model_name": "HBoxModel",
          "state": {
            "_dom_classes": [],
            "_model_module": "@jupyter-widgets/controls",
            "_model_module_version": "1.5.0",
            "_model_name": "HBoxModel",
            "_view_count": null,
            "_view_module": "@jupyter-widgets/controls",
            "_view_module_version": "1.5.0",
            "_view_name": "HBoxView",
            "box_style": "",
            "children": [
              "IPY_MODEL_cbc607eb4e864f9ab92131d33fec73ba",
              "IPY_MODEL_d7da659bc22f406cabd2f4745fa4947d"
            ],
            "layout": "IPY_MODEL_6917cda7d20349b0bd52deba7f5ed24a"
          }
        },
        "6917cda7d20349b0bd52deba7f5ed24a": {
          "model_module": "@jupyter-widgets/base",
          "model_name": "LayoutModel",
          "state": {
            "_model_module": "@jupyter-widgets/base",
            "_model_module_version": "1.2.0",
            "_model_name": "LayoutModel",
            "_view_count": null,
            "_view_module": "@jupyter-widgets/base",
            "_view_module_version": "1.2.0",
            "_view_name": "LayoutView",
            "align_content": null,
            "align_items": null,
            "align_self": null,
            "border": null,
            "bottom": null,
            "display": null,
            "flex": null,
            "flex_flow": null,
            "grid_area": null,
            "grid_auto_columns": null,
            "grid_auto_flow": null,
            "grid_auto_rows": null,
            "grid_column": null,
            "grid_gap": null,
            "grid_row": null,
            "grid_template_areas": null,
            "grid_template_columns": null,
            "grid_template_rows": null,
            "height": null,
            "justify_content": null,
            "justify_items": null,
            "left": null,
            "margin": null,
            "max_height": null,
            "max_width": null,
            "min_height": null,
            "min_width": null,
            "object_fit": null,
            "object_position": null,
            "order": null,
            "overflow": null,
            "overflow_x": null,
            "overflow_y": null,
            "padding": null,
            "right": null,
            "top": null,
            "visibility": null,
            "width": null
          }
        },
        "cbc607eb4e864f9ab92131d33fec73ba": {
          "model_module": "@jupyter-widgets/controls",
          "model_name": "FloatProgressModel",
          "state": {
            "_dom_classes": [],
            "_model_module": "@jupyter-widgets/controls",
            "_model_module_version": "1.5.0",
            "_model_name": "FloatProgressModel",
            "_view_count": null,
            "_view_module": "@jupyter-widgets/controls",
            "_view_module_version": "1.5.0",
            "_view_name": "ProgressView",
            "bar_style": "danger",
            "description": " 88%",
            "description_tooltip": null,
            "layout": "IPY_MODEL_03f49bf6e87f46c4b08b75527bd3e6b4",
            "max": 2000,
            "min": 0,
            "orientation": "horizontal",
            "style": "IPY_MODEL_f4e00f514fd74f79a847ab50b4200d83",
            "value": 1753
          }
        },
        "d7da659bc22f406cabd2f4745fa4947d": {
          "model_module": "@jupyter-widgets/controls",
          "model_name": "HTMLModel",
          "state": {
            "_dom_classes": [],
            "_model_module": "@jupyter-widgets/controls",
            "_model_module_version": "1.5.0",
            "_model_name": "HTMLModel",
            "_view_count": null,
            "_view_module": "@jupyter-widgets/controls",
            "_view_module_version": "1.5.0",
            "_view_name": "HTMLView",
            "description": "",
            "description_tooltip": null,
            "layout": "IPY_MODEL_d70b4afec6dd40749a9f5789bfcc31db",
            "placeholder": "​",
            "style": "IPY_MODEL_dfb1651141124ff18a736ede3cd1ef93",
            "value": " 1753/2000 [25:07&lt;03:29,  1.18it/s]"
          }
        },
        "f4e00f514fd74f79a847ab50b4200d83": {
          "model_module": "@jupyter-widgets/controls",
          "model_name": "ProgressStyleModel",
          "state": {
            "_model_module": "@jupyter-widgets/controls",
            "_model_module_version": "1.5.0",
            "_model_name": "ProgressStyleModel",
            "_view_count": null,
            "_view_module": "@jupyter-widgets/base",
            "_view_module_version": "1.2.0",
            "_view_name": "StyleView",
            "bar_color": null,
            "description_width": "initial"
          }
        },
        "03f49bf6e87f46c4b08b75527bd3e6b4": {
          "model_module": "@jupyter-widgets/base",
          "model_name": "LayoutModel",
          "state": {
            "_model_module": "@jupyter-widgets/base",
            "_model_module_version": "1.2.0",
            "_model_name": "LayoutModel",
            "_view_count": null,
            "_view_module": "@jupyter-widgets/base",
            "_view_module_version": "1.2.0",
            "_view_name": "LayoutView",
            "align_content": null,
            "align_items": null,
            "align_self": null,
            "border": null,
            "bottom": null,
            "display": null,
            "flex": null,
            "flex_flow": null,
            "grid_area": null,
            "grid_auto_columns": null,
            "grid_auto_flow": null,
            "grid_auto_rows": null,
            "grid_column": null,
            "grid_gap": null,
            "grid_row": null,
            "grid_template_areas": null,
            "grid_template_columns": null,
            "grid_template_rows": null,
            "height": null,
            "justify_content": null,
            "justify_items": null,
            "left": null,
            "margin": null,
            "max_height": null,
            "max_width": null,
            "min_height": null,
            "min_width": null,
            "object_fit": null,
            "object_position": null,
            "order": null,
            "overflow": null,
            "overflow_x": null,
            "overflow_y": null,
            "padding": null,
            "right": null,
            "top": null,
            "visibility": null,
            "width": null
          }
        },
        "dfb1651141124ff18a736ede3cd1ef93": {
          "model_module": "@jupyter-widgets/controls",
          "model_name": "DescriptionStyleModel",
          "state": {
            "_model_module": "@jupyter-widgets/controls",
            "_model_module_version": "1.5.0",
            "_model_name": "DescriptionStyleModel",
            "_view_count": null,
            "_view_module": "@jupyter-widgets/base",
            "_view_module_version": "1.2.0",
            "_view_name": "StyleView",
            "description_width": ""
          }
        },
        "d70b4afec6dd40749a9f5789bfcc31db": {
          "model_module": "@jupyter-widgets/base",
          "model_name": "LayoutModel",
          "state": {
            "_model_module": "@jupyter-widgets/base",
            "_model_module_version": "1.2.0",
            "_model_name": "LayoutModel",
            "_view_count": null,
            "_view_module": "@jupyter-widgets/base",
            "_view_module_version": "1.2.0",
            "_view_name": "LayoutView",
            "align_content": null,
            "align_items": null,
            "align_self": null,
            "border": null,
            "bottom": null,
            "display": null,
            "flex": null,
            "flex_flow": null,
            "grid_area": null,
            "grid_auto_columns": null,
            "grid_auto_flow": null,
            "grid_auto_rows": null,
            "grid_column": null,
            "grid_gap": null,
            "grid_row": null,
            "grid_template_areas": null,
            "grid_template_columns": null,
            "grid_template_rows": null,
            "height": null,
            "justify_content": null,
            "justify_items": null,
            "left": null,
            "margin": null,
            "max_height": null,
            "max_width": null,
            "min_height": null,
            "min_width": null,
            "object_fit": null,
            "object_position": null,
            "order": null,
            "overflow": null,
            "overflow_x": null,
            "overflow_y": null,
            "padding": null,
            "right": null,
            "top": null,
            "visibility": null,
            "width": null
          }
        }
      }
    }
  },
  "cells": [
    {
      "cell_type": "markdown",
      "metadata": {
        "id": "view-in-github",
        "colab_type": "text"
      },
      "source": [
        "<a href=\"https://colab.research.google.com/github/mcppp/FinalProjectI2DL/blob/main/AUDIO_simple.ipynb\" target=\"_parent\"><img src=\"https://colab.research.google.com/assets/colab-badge.svg\" alt=\"Open In Colab\"/></a>"
      ]
    },
    {
      "cell_type": "code",
      "metadata": {
        "colab": {
          "base_uri": "https://localhost:8080/"
        },
        "id": "87e4UUtGu7sU",
        "outputId": "8c362778-dc53-4ed8-c045-4f59f8f5ac72"
      },
      "source": [
        "import os\n",
        "from os import listdir\n",
        "from os.path import isfile, join\n",
        "import csv\n",
        "import numpy as np\n",
        "from tqdm.notebook import tqdm  #for visualization\n",
        "import sklearn\n",
        "from sklearn import model_selection\n",
        "\n",
        "import matplotlib.pyplot as plt\n",
        "\n",
        "import torch\n",
        "import torchvision\n",
        "import torch.nn as nn\n",
        "import torch.nn.functional as F   #for more detailed nn\n",
        "import torch.optim as optim\n",
        "from torch.utils.data import Dataset, DataLoader\n",
        "from torch.optim.lr_scheduler import StepLR\n",
        "\n",
        "import sys\n",
        "import librosa\n",
        "#from google.colab import drive\n",
        "import soundfile\n",
        "import subprocess\n",
        "\n",
        "print(torch.__version__)"
      ],
      "execution_count": null,
      "outputs": [
        {
          "output_type": "stream",
          "text": [
            "1.7.1\n"
          ],
          "name": "stdout"
        }
      ]
    },
    {
      "cell_type": "code",
      "metadata": {
        "id": "VNHlFqL5u8Id"
      },
      "source": [
        "#from google.colab import drive\n",
        "#drive.mount('/content/drive')"
      ],
      "execution_count": null,
      "outputs": []
    },
    {
      "cell_type": "code",
      "metadata": {
        "colab": {
          "base_uri": "https://localhost:8080/"
        },
        "id": "POTT4aCwvEjL",
        "outputId": "9aa95d6c-12ff-4291-c5d1-449bb9d9cfbf"
      },
      "source": [
        "# device = 'cpu'   #in runtime, change runtime type to CPU\n",
        "device = 'cuda'\n",
        "print('Current Device : {}'.format(device))"
      ],
      "execution_count": null,
      "outputs": [
        {
          "output_type": "stream",
          "text": [
            "Current Device : cuda\n"
          ],
          "name": "stdout"
        }
      ]
    },
    {
      "cell_type": "code",
      "metadata": {
        "colab": {
          "base_uri": "https://localhost:8080/"
        },
        "id": "wZjw5_jXvR6G",
        "outputId": "50c323f5-5444-4699-e8d1-c140227f6e6a"
      },
      "source": [
        "#Loading data from npy arrays created by extracting audio features in the other notebook\n",
        "feature_matrix=np.load('./feature_matrix.npy')\n",
        "sample_labels=np.load('./labels.npy')\n",
        "fixed_labels = np.int64(sample_labels)-np.ones(len(sample_labels)) #adapting labels (they will start at label 0 instead of label 1)\n",
        "\n",
        "print(feature_matrix.shape) #(1440, 193)\n",
        "print(fixed_labels.shape) #(1440,)"
      ],
      "execution_count": null,
      "outputs": [
        {
          "output_type": "stream",
          "text": [
            "(1440, 193)\n",
            "(1440,)\n"
          ],
          "name": "stdout"
        }
      ]
    },
    {
      "cell_type": "code",
      "metadata": {
        "colab": {
          "base_uri": "https://localhost:8080/"
        },
        "id": "sW1g-R9evgDN",
        "outputId": "5b5c4a9d-c92b-4afb-c3d5-bd18237032bf"
      },
      "source": [
        "#Splitting into train val set\n",
        "X_train, X_test, y_train, y_test = model_selection.train_test_split(feature_matrix, fixed_labels, test_size=0.2, random_state=42)\n",
        "X_val, X_test, y_val, y_test = model_selection.train_test_split(X_test, y_test, test_size=0.5)\n",
        "\n",
        "print(X_train.shape)\n",
        "print(X_test.shape)\n",
        "print(X_val.shape)\n",
        "print(y_train.shape)\n",
        "print(y_test.shape)\n",
        "print(type(X_train))\n",
        "print(type(y_train))"
      ],
      "execution_count": null,
      "outputs": [
        {
          "output_type": "stream",
          "text": [
            "(1152, 193)\n",
            "(144, 193)\n",
            "(144, 193)\n",
            "(1152,)\n",
            "(144,)\n",
            "<class 'numpy.ndarray'>\n",
            "<class 'numpy.ndarray'>\n"
          ],
          "name": "stdout"
        }
      ]
    },
    {
      "cell_type": "code",
      "metadata": {
        "id": "OGOUZOvTxVHF"
      },
      "source": [
        "#Define dataset\n",
        "class RAVDESS_Dataset(Dataset):\n",
        "    def __init__(self, target_audio, target_label):\n",
        "        \n",
        "        self.target_audio = target_audio\n",
        "        self.target_label = target_label\n",
        "        self.num_data = target_audio.shape[0]  \n",
        "        \n",
        "\n",
        "    def __len__(self):\n",
        "      return self.num_data\n",
        "      \n",
        "        \n",
        "    def __getitem__(self, idx):\n",
        "       sample = dict()\n",
        "       sample['features'] =self.target_audio[idx]   # 'input'\n",
        "       sample['label']= self.target_label[idx]  # 'output'\n",
        "\n",
        "       return sample\n",
        "        "
      ],
      "execution_count": null,
      "outputs": []
    },
    {
      "cell_type": "code",
      "metadata": {
        "colab": {
          "base_uri": "https://localhost:8080/"
        },
        "id": "KmyLskrJzjnK",
        "outputId": "f6f2fc9e-e5fe-4875-dffa-873e6d2246fe"
      },
      "source": [
        "#Define dataloader\n",
        "batch_size = 256\n",
        "\n",
        "# Define dataset for train, test, validation \n",
        "train_dataset = RAVDESS_Dataset(X_train,y_train)\n",
        "test_dataset = RAVDESS_Dataset(X_test, y_test)\n",
        "val_dataset = RAVDESS_Dataset(X_val, y_val)\n",
        "\n",
        "#Checking type of dataset\n",
        "print(type(train_dataset[0]['features']))\n",
        "print(type(train_dataset[0]['label']))\n",
        "\n",
        "# Define dataloader for train/test/val\n",
        "train_dataloader = DataLoader(train_dataset, batch_size=batch_size, shuffle=True) #we shuffle train data\n",
        "test_dataloader = DataLoader(test_dataset, batch_size=1, shuffle=False)\n",
        "val_dataloader = DataLoader(val_dataset, batch_size=1, shuffle=False)\n"
      ],
      "execution_count": null,
      "outputs": [
        {
          "output_type": "stream",
          "text": [
            "<class 'numpy.ndarray'>\n",
            "<class 'numpy.float64'>\n"
          ],
          "name": "stdout"
        }
      ]
    },
    {
      "cell_type": "code",
      "metadata": {
        "id": "7muSBrvw0Y4r"
      },
      "source": [
        "#sample = next(iter(test_dataloader)) #extract a sample if you want to try things out"
      ],
      "execution_count": null,
      "outputs": []
    },
    {
      "cell_type": "code",
      "metadata": {
        "id": "JT_K4QH66ToB"
      },
      "source": [
        "class CNNs(nn.Module): #CNNs class inherits from nn.Module, in order to do gradient, forward automatically\n",
        "    def __init__(self, channels= [64 , 128], dim_output=8):\n",
        "        super(CNNs, self).__init__()  #needed so that things defined in nn.Module are inherited by our neural network class\n",
        "        \n",
        "        self.channels = channels #defined by channels given as inputs\n",
        "       \n",
        "        self.dim_output = dim_output\n",
        "\n",
        "        self.conv1 = nn.Conv1d(1,self.channels[0], kernel_size=3, stride=1) #input is dim of image (3,32,32) is 3-dim, output is number of filters 32\n",
        "        self.conv2 = nn.Conv1d(self.channels[0],self.channels[1], kernel_size=3, stride=1) #input is dim of image (3,32,32) is 3-dim, output is number of filters 32\n",
        "\n",
        "        self.activation = nn.ReLU()\n",
        "        \n",
        "        self.flatten=nn.Flatten()\n",
        "\n",
        "        self.fc1 = nn.Linear(24192, 24192//12)\n",
        "        self.fc2 = nn.Linear(24192//12, self.dim_output)\n",
        "      \n",
        "        self.dropout = nn.Dropout(p=0.3)\n",
        "        \n",
        "\n",
        "    def forward(self, input_s):\n",
        "        \n",
        "       out = self.conv1(input_s)\n",
        "       out = self.activation(out)\n",
        "       out = self.dropout(out)\n",
        "       out = self.conv2(out)\n",
        "       out = self.activation(out)\n",
        "       out = self.dropout(out)\n",
        "       out = self.flatten(out)\n",
        "       out = self.dropout(self.activation(self.fc1(out)))\n",
        "       out = self.activation(self.fc2(out))\n",
        "        \n",
        "       return out"
      ],
      "execution_count": null,
      "outputs": []
    },
    {
      "cell_type": "code",
      "metadata": {
        "id": "7M-wfOmZyptu"
      },
      "source": [
        "# Define the Model\n",
        "model = CNNs() #defining hidden layer dimensions\n",
        "\n",
        "optimizer = optim.Adam(model.parameters(), lr =1e-4)\n"
      ],
      "execution_count": null,
      "outputs": []
    },
    {
      "cell_type": "code",
      "metadata": {
        "colab": {
          "base_uri": "https://localhost:8080/"
        },
        "id": "BaUNbe2G1k1o",
        "outputId": "3bfd6761-966a-4c99-c01b-949e166d5ec5"
      },
      "source": [
        "print(model)"
      ],
      "execution_count": null,
      "outputs": [
        {
          "output_type": "stream",
          "text": [
            "CNNs(\n",
            "  (conv1): Conv1d(1, 64, kernel_size=(3,), stride=(1,))\n",
            "  (conv2): Conv1d(64, 128, kernel_size=(3,), stride=(1,))\n",
            "  (activation): ReLU()\n",
            "  (flatten): Flatten(start_dim=1, end_dim=-1)\n",
            "  (fc1): Linear(in_features=24192, out_features=2016, bias=True)\n",
            "  (fc2): Linear(in_features=2016, out_features=8, bias=True)\n",
            "  (dropout): Dropout(p=0.3, inplace=False)\n",
            ")\n"
          ],
          "name": "stdout"
        }
      ]
    },
    {
      "cell_type": "code",
      "metadata": {
        "id": "d9abkUe41nMH"
      },
      "source": [
        "def train(model, optimizer, sample):\n",
        "    model.train()\n",
        "    model = model.to(device)\n",
        "\n",
        "    # Define the Loss for multi-class classification\n",
        "    criterion = nn.CrossEntropyLoss() \n",
        "    \n",
        "    # Clean up the Optimizer (delete gradient we had defined before)\n",
        "    optimizer.zero_grad()\n",
        "\n",
        "    # Set Input and Output\n",
        "    features = torch.unsqueeze(sample['features'].float(),1).to(device)\n",
        "    label = sample['label'].long().to(device) #label is idx of class that we have\n",
        "\n",
        "    # Get prediction from the model    \n",
        "    pred = model(features) #should give a a tensor with probabilities of the image belonging to each of the classes\n",
        "\n",
        "    # Calculate number of correct prediction.\n",
        "    num_correct = sum(torch.argmax(pred, dim=1) == label) #compare highest probability in the output tensor with the true label, add only correct predictions\n",
        "    \n",
        "    # Get the Loss from prediction and ground truth label\n",
        "    pred_loss = criterion(pred,label.to(device)) \n",
        "\n",
        "    # Get the gradient (backprop), and update optimizer\n",
        "    pred_loss.backward()\n",
        "    optimizer.step()\n",
        "\n",
        "    return pred_loss.item(), num_correct.item()"
      ],
      "execution_count": null,
      "outputs": []
    },
    {
      "cell_type": "code",
      "metadata": {
        "id": "LDovXxxL1omV"
      },
      "source": [
        "def test(model, sample):\n",
        "    model.eval()\n",
        "\n",
        "    # Define the Loss for multi-class classification\n",
        "    criterion = nn.CrossEntropyLoss()\n",
        "\n",
        "    # Get the result without computing the gradient\n",
        "    with torch.no_grad():\n",
        "        # Set input and output\n",
        "        features = torch.unsqueeze(sample['features'].float(),1).to(device)\n",
        "        label = sample['label'].long().to(device)\n",
        "\n",
        "        # Get prediction from the model    \n",
        "        pred = model(features)\n",
        "\n",
        "        # Calculate number of correct predictions\n",
        "        num_correct = sum(torch.argmax(pred, dim=1) == label)\n",
        "\n",
        "        # Get the Loss from prediction and ground truth label\n",
        "        pred_loss = criterion(pred,label.to(device)) \n",
        "\n",
        "    return pred_loss.item(), num_correct.item(),pred"
      ],
      "execution_count": null,
      "outputs": []
    },
    {
      "cell_type": "code",
      "metadata": {
        "id": "x9pYcYrj0qjr"
      },
      "source": [
        "#Creating empty lists to save information to plot the train/val curve later\n",
        "val_list =list()\n",
        "train_list =list()\n",
        "epochs_list = list()"
      ],
      "execution_count": null,
      "outputs": []
    },
    {
      "cell_type": "code",
      "metadata": {
        "colab": {
          "base_uri": "https://localhost:8080/",
          "height": 1000,
          "referenced_widgets": [
            "07ad26cdbbd44865b41135dc4440f1b9",
            "6917cda7d20349b0bd52deba7f5ed24a",
            "cbc607eb4e864f9ab92131d33fec73ba",
            "d7da659bc22f406cabd2f4745fa4947d",
            "f4e00f514fd74f79a847ab50b4200d83",
            "03f49bf6e87f46c4b08b75527bd3e6b4",
            "dfb1651141124ff18a736ede3cd1ef93",
            "d70b4afec6dd40749a9f5789bfcc31db",
            "997346c0446f4719bf26dafd58ce889e"
          ]
        },
        "id": "pE7ZVFcc1xf1",
        "outputId": "d549d31e-f197-4cff-f2b7-c74e84d642d4"
      },
      "source": [
        "#TRAINING AND VALIDATING\n",
        "\n",
        "max_epoch = 1000\n",
        "\n",
        "\n",
        "for epoch in tqdm(range(max_epoch)):  \n",
        "    \n",
        "   #############################Train Phase######################################\n",
        "    \n",
        "    # Initialize Loss and Accuracy\n",
        "    train_loss = 0.0\n",
        "    train_accu = 0.0\n",
        "\n",
        "\n",
        "    # Iterate over the train_dataloader\n",
        "    for idx, sample in enumerate(train_dataloader):\n",
        "        curr_loss, num_correct = train(model, optimizer, sample) #model optimized with that optimizer, sample enumerated from train_dataloader\n",
        "        train_loss += curr_loss / len(train_dataloader)  #average loss value\n",
        "        train_accu += num_correct / len(train_dataset)  #average accuracy\n",
        "\n",
        "   \n",
        "   #############################Validate Phase######################################\n",
        "    \n",
        "    # # Initialize Loss and Accuracy\n",
        "    val_loss = 0.0\n",
        "    val_accu = 0.0\n",
        "\n",
        "    # Iterate over the test_dataloader\n",
        "    for idx, sample in enumerate(val_dataloader):\n",
        "        curr_loss, num_correct,_ = test(model, sample)\n",
        "        val_loss += curr_loss / len(val_dataloader)\n",
        "        val_accu += num_correct / len(val_dataloader)\n",
        "\n",
        "      \n",
        "    if epoch % 10 == 0: #saving information and printing train/validation accuracy every 10 epochs\n",
        "      train_list.append(train_accu)\n",
        "      val_list.append(val_accu)\n",
        "      epochs_list.append(epoch)\n",
        "      print(train_accu, val_accu)"
      ],
      "execution_count": null,
      "outputs": [
        {
          "output_type": "display_data",
          "data": {
            "application/vnd.jupyter.widget-view+json": {
              "model_id": "997346c0446f4719bf26dafd58ce889e",
              "version_major": 2,
              "version_minor": 0
            },
            "text/plain": [
              "HBox(children=(FloatProgress(value=0.0, max=1000.0), HTML(value='')))"
            ]
          },
          "metadata": {
            "tags": []
          }
        },
        {
          "output_type": "stream",
          "text": [
            "0.11111111111111112 0.13194444444444448\n",
            "0.21006944444444442 0.20138888888888895\n",
            "0.23350694444444445 0.2361111111111112\n",
            "0.23350694444444445 0.22916666666666674\n",
            "0.23177083333333334 0.24305555555555564\n",
            "0.2560763888888889 0.2361111111111112\n",
            "0.2612847222222222 0.25000000000000006\n",
            "0.26388888888888884 0.2638888888888889\n",
            "0.2664930555555555 0.2708333333333333\n",
            "0.2612847222222222 0.2638888888888889\n",
            "0.27083333333333337 0.2638888888888889\n",
            "0.2743055555555556 0.2638888888888889\n",
            "0.2777777777777778 0.2569444444444445\n",
            "0.27604166666666663 0.2638888888888889\n",
            "0.2717013888888889 0.2708333333333333\n",
            "0.2751736111111111 0.2569444444444445\n",
            "0.28125 0.2569444444444445\n",
            "0.27864583333333337 0.2569444444444445\n",
            "0.28385416666666663 0.2569444444444445\n",
            "0.2777777777777778 0.2638888888888889\n",
            "0.2821180555555556 0.2638888888888889\n",
            "0.28125 0.2708333333333333\n",
            "0.28298611111111116 0.2569444444444445\n",
            "0.2916666666666667 0.25000000000000006\n",
            "0.34722222222222227 0.3333333333333331\n",
            "0.38888888888888884 0.3333333333333331\n",
            "0.3819444444444445 0.34722222222222193\n",
            "0.4001736111111111 0.34722222222222193\n",
            "0.39496527777777773 0.3402777777777775\n",
            "0.4010416666666667 0.34722222222222193\n",
            "0.5598958333333334 0.5208333333333325\n",
            "0.5894097222222222 0.5347222222222213\n",
            "0.6510416666666666 0.5902777777777767\n",
            "0.7951388888888888 0.645833333333332\n",
            "0.8194444444444444 0.645833333333332\n",
            "0.8402777777777778 0.6736111111111097\n",
            "0.8836805555555556 0.7222222222222207\n",
            "0.8871527777777778 0.6805555555555541\n",
            "0.8940972222222222 0.7013888888888874\n",
            "0.9296875 0.7152777777777762\n",
            "0.9461805555555555 0.7083333333333318\n",
            "0.9479166666666667 0.7152777777777762\n",
            "0.9522569444444445 0.7222222222222207\n",
            "0.9592013888888888 0.7222222222222207\n",
            "0.9644097222222222 0.7013888888888874\n",
            "0.9678819444444444 0.7291666666666651\n",
            "0.9713541666666667 0.7222222222222207\n",
            "0.9791666666666666 0.7291666666666651\n",
            "0.9800347222222222 0.7291666666666651\n",
            "0.9852430555555556 0.7569444444444428\n",
            "0.9774305555555557 0.7361111111111095\n",
            "0.9878472222222223 0.7361111111111095\n",
            "0.9852430555555556 0.7222222222222207\n",
            "0.9852430555555556 0.7569444444444428\n",
            "0.9878472222222222 0.7569444444444428\n",
            "0.9895833333333333 0.7638888888888872\n",
            "0.9861111111111112 0.7361111111111095\n",
            "0.9913194444444445 0.7569444444444428\n",
            "0.9895833333333333 0.7499999999999983\n",
            "0.9921875 0.7152777777777762\n",
            "0.9913194444444444 0.7430555555555539\n",
            "0.9913194444444444 0.7291666666666651\n",
            "0.9939236111111112 0.7361111111111095\n",
            "0.9947916666666665 0.7291666666666651\n",
            "0.9930555555555555 0.7430555555555539\n",
            "0.9904513888888888 0.7430555555555539\n",
            "0.9930555555555556 0.7569444444444428\n",
            "0.9930555555555556 0.7361111111111095\n",
            "0.9913194444444444 0.7430555555555539\n",
            "0.9921875 0.7638888888888872\n",
            "0.9939236111111112 0.7361111111111095\n",
            "0.9913194444444444 0.7638888888888872\n",
            "0.9913194444444444 0.7430555555555539\n",
            "0.9939236111111109 0.7430555555555539\n",
            "0.9947916666666667 0.7569444444444428\n",
            "0.9930555555555555 0.7291666666666651\n",
            "0.9913194444444444 0.7499999999999983\n",
            "0.9939236111111112 0.7499999999999983\n",
            "0.993923611111111 0.7569444444444428\n",
            "0.9921874999999999 0.777777777777776\n",
            "0.9921875 0.7708333333333316\n",
            "0.9947916666666666 0.7569444444444428\n",
            "0.9930555555555556 0.7569444444444428\n",
            "0.9930555555555556 0.7638888888888872\n",
            "0.9930555555555555 0.7430555555555539\n",
            "0.9956597222222223 0.7708333333333316\n",
            "0.9930555555555556 0.7708333333333316\n",
            "0.9947916666666666 0.7638888888888872\n",
            "0.9947916666666667 0.7291666666666651\n",
            "0.9947916666666665 0.7916666666666649\n",
            "0.9939236111111112 0.7499999999999983\n",
            "0.9947916666666666 0.7222222222222207\n",
            "0.9930555555555556 0.7222222222222207\n",
            "0.9947916666666665 0.7638888888888872\n",
            "0.9930555555555556 0.7291666666666651\n",
            "0.9947916666666667 0.7569444444444428\n",
            "0.9930555555555556 0.7361111111111095\n",
            "0.9956597222222221 0.7499999999999983\n",
            "0.9956597222222221 0.7430555555555539\n",
            "0.9956597222222223 0.7430555555555539\n",
            "\n"
          ],
          "name": "stdout"
        }
      ]
    },
    {
      "cell_type": "code",
      "metadata": {
        "colab": {
          "referenced_widgets": [
            "3a3660a3fcc448619c790cbf9ae97f1b"
          ]
        },
        "id": "2pujNHPA0qjs",
        "outputId": "ffb68e4f-2797-4518-e6ee-8baf8f90849c"
      },
      "source": [
        "##Printing confusion matrix (reporting based on TEST SET)\n",
        "\n",
        "nb_classes = 8\n",
        "predictions= np.zeros(len(test_dataset))\n",
        "labels= np.zeros(len(test_dataset))\n",
        "\n",
        "with tqdm(total=len(test_dataloader)) as pbar:\n",
        "    confusion_matrix = torch.zeros(nb_classes, nb_classes)\n",
        "    with torch.no_grad():\n",
        "        for idx, sample in enumerate(test_dataloader):\n",
        "            labels[idx]=sample['label'].item()\n",
        "            _, _, outputs = test(model, sample)\n",
        "            _, preds = torch.max(outputs, 1)\n",
        "            predictions[idx] = preds\n",
        "            for t, p in zip(sample['label'].view(-1), preds.view(-1)):\n",
        "                confusion_matrix[t.long(), p.long()] += 1\n",
        "            pbar.update(1) # update SUB PROGRESS BAR 2\n",
        "\n",
        "print(confusion_matrix)"
      ],
      "execution_count": null,
      "outputs": [
        {
          "output_type": "display_data",
          "data": {
            "application/vnd.jupyter.widget-view+json": {
              "model_id": "3a3660a3fcc448619c790cbf9ae97f1b",
              "version_major": 2,
              "version_minor": 0
            },
            "text/plain": [
              "HBox(children=(FloatProgress(value=0.0, max=144.0), HTML(value='')))"
            ]
          },
          "metadata": {
            "tags": []
          }
        },
        {
          "output_type": "stream",
          "text": [
            "\n",
            "tensor([[ 5.,  4.,  0.,  1.,  0.,  0.,  0.,  0.],\n",
            "        [ 0., 26.,  0.,  1.,  0.,  0.,  0.,  0.],\n",
            "        [ 0.,  1., 15.,  1.,  1.,  0.,  0.,  0.],\n",
            "        [ 1.,  3.,  0., 12.,  0.,  1.,  0.,  0.],\n",
            "        [ 0.,  0.,  2.,  0., 10.,  2.,  1.,  0.],\n",
            "        [ 0.,  0.,  1.,  2.,  0., 17.,  1.,  0.],\n",
            "        [ 0.,  0.,  0.,  0.,  0.,  0., 15.,  0.],\n",
            "        [ 1.,  0.,  2.,  1.,  1.,  0.,  0., 16.]])\n"
          ],
          "name": "stdout"
        }
      ]
    },
    {
      "cell_type": "code",
      "metadata": {
        "id": "TVUZqaEP0qjt",
        "outputId": "547102a6-238c-4216-c2bc-5e54b5ecb771"
      },
      "source": [
        "#Displaying confusion matrix as Heatmap\n",
        "\n",
        "import seaborn as sns\n",
        "import matplotlib.pyplot as plt     \n",
        "\n",
        "ax= plt.subplot()\n",
        " \n",
        "# labels, title and ticks\n",
        "sns.heatmap(confusion_matrix, annot=True, ax = ax,fmt='g',cmap='Greens'); #annot=True to annotate cells\n",
        "plt.yticks(rotation=0) \n",
        "plt.xticks(rotation=-20) \n",
        "ax.set_xlabel('Predicted labels');ax.set_ylabel('True labels'); \n",
        "ax.set_title('Confusion Matrix'); \n",
        "ax.xaxis.set_ticklabels([\"neutral\", \"calm\", \"happy\", \"sad\", \"angry\", \"fearful\", \"disgust\", \"surprised\"]); ax.yaxis.set_ticklabels([\"neutral\", \"calm\", \"happy\", \"sad\", \"angry\", \"fearful\", \"disgust\", \"surprised\"]);"
      ],
      "execution_count": null,
      "outputs": [
        {
          "output_type": "display_data",
          "data": {
            "image/png": "[encoded data removed]",
            "text/plain": [
              "<Figure size 432x288 with 2 Axes>"
            ]
          },
          "metadata": {
            "tags": [],
            "needs_background": "light"
          }
        }
      ]
    },
    {
      "cell_type": "code",
      "metadata": {
        "id": "DLOOr0Pp0qju",
        "outputId": "a735e2a6-d0a3-454d-e917-20c067bc546c"
      },
      "source": [
        "##Plotting train vs. validation accuracy curve\n",
        "arr_epochs =np.array(epochs_list)\n",
        "arr_val =np.array(val_list)\n",
        "arr_train = np.array(train_list)\n",
        "print(arr_epochs.shape)\n",
        "print(arr_val.shape)\n",
        "print(arr_train.shape)\n",
        "\n",
        "\n",
        "f = plt.figure()\n",
        "ax = f.add_subplot(111)\n",
        "ax.plot(arr_epochs, arr_val,  label=\"Validation accuracy\")\n",
        "ax.plot(arr_epochs, arr_train,  label=\"Train accuracy\")\n",
        "ax.legend()\n",
        "\n",
        "ax.set_xlabel('Epochs')\n",
        "ax.set_ylabel('Accuracy')\n",
        "ax.set_title('Train vs. Validation accuracy')\n",
        "\n"
      ],
      "execution_count": null,
      "outputs": [
        {
          "output_type": "stream",
          "text": [
            "(100,)\n",
            "(100,)\n",
            "(100,)\n"
          ],
          "name": "stdout"
        },
        {
          "output_type": "execute_result",
          "data": {
            "text/plain": [
              "Text(0.5, 1.0, 'Train vs. Validation accuracy')"
            ]
          },
          "metadata": {
            "tags": []
          },
          "execution_count": 20
        },
        {
          "output_type": "display_data",
          "data": {
            "image/png": "[encoded data removed]",
            "text/plain": [
              "<Figure size 432x288 with 1 Axes>"
            ]
          },
          "metadata": {
            "tags": [],
            "needs_background": "light"
          }
        }
      ]
    }
  ]
}