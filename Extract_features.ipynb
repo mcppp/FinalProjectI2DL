{
  "nbformat": 4,
  "nbformat_minor": 0,
  "metadata": {
    "colab": {
      "name": "Extract_features.ipynb",
      "provenance": [],
      "collapsed_sections": [],
      "authorship_tag": "ABX9TyMD96QZulZOYZfDlGs74JGr",
      "include_colab_link": true
    },
    "kernelspec": {
      "name": "python3",
      "display_name": "Python 3"
    }
  },
  "cells": [
    {
      "cell_type": "markdown",
      "metadata": {
        "id": "view-in-github",
        "colab_type": "text"
      },
      "source": [
        "<a href=\"https://colab.research.google.com/github/mcppp/FinalProjectI2DL/blob/main/Extract_features.ipynb\" target=\"_parent\"><img src=\"https://colab.research.google.com/assets/colab-badge.svg\" alt=\"Open In Colab\"/></a>"
      ]
    },
    {
      "cell_type": "code",
      "metadata": {
        "id": "y2qcDTxiMvb6"
      },
      "source": [
        "import numpy as np\r\n",
        "import os\r\n",
        "import sys\r\n",
        "import librosa\r\n",
        "from google.colab import drive\r\n",
        "import soundfile\r\n",
        "import matplotlib.pyplot as plt\r\n",
        "\r\n",
        "\r\n",
        "from os import listdir\r\n",
        "from os.path import isfile, join\r\n",
        "import os\r\n",
        "import subprocess\r\n",
        "import sys"
      ],
      "execution_count": null,
      "outputs": []
    },
    {
      "cell_type": "code",
      "metadata": {
        "colab": {
          "base_uri": "https://localhost:8080/"
        },
        "id": "PDbKXmZENkPv",
        "outputId": "5a764baa-5f38-4e83-e7bd-b81fff6ca5ea"
      },
      "source": [
        "from google.colab import drive\r\n",
        "drive.mount('/content/drive')"
      ],
      "execution_count": null,
      "outputs": [
        {
          "output_type": "stream",
          "text": [
            "Mounted at /content/drive\n"
          ],
          "name": "stdout"
        }
      ]
    },
    {
      "cell_type": "code",
      "metadata": {
        "id": "b49HZA6RSKsn"
      },
      "source": [
        "project_path = './drive/MyDrive/Colab Notebooks/Project'\r\n",
        "dataset_path = join(project_path, 'Dataset')"
      ],
      "execution_count": null,
      "outputs": []
    },
    {
      "cell_type": "code",
      "metadata": {
        "colab": {
          "base_uri": "https://localhost:8080/"
        },
        "id": "QgHQPIbUbomq",
        "outputId": "5fde4c6e-2512-45d2-f90d-87ea4a0bf02c"
      },
      "source": [
        "feature_all=np.empty((0,193)) #for d=193 features that will be extracted in total \r\n",
        "labels = list()\r\n",
        "\r\n",
        "dir = os.listdir(dataset_path)\r\n",
        "\r\n",
        "for i in dir:\r\n",
        "  audiofile = os.listdir(join(dataset_path,i)) #audiofile has a list of the 60 audios produced by one actor (in folder i, included in dir)\r\n",
        "  for j in audiofile: #for every audiofile\r\n",
        "    labels.append(j[7]) #label is in position 7 of the audio filename \r\n",
        "\r\n",
        "    time_series,sr = librosa.load(join(dataset_path,i,j)) #audio time series, sampling rate of it, shape: (83139,)\r\n",
        "    stft = np.abs(librosa.stft(time_series)) #FFT and absolute value, shape: (1025, 163)\r\n",
        "\r\n",
        "    mfccs = np.mean(librosa.feature.mfcc(y=time_series, sr=sr, n_mfcc=40).T,axis=0) #returns (mean) of 40 MFC coefficients\r\n",
        "    chroma = np.mean(librosa.feature.chroma_stft(S=stft, sr=sr).T,axis=0) #chromagram from a waveform or power spectrogram\r\n",
        "    mel = np.mean(librosa.feature.melspectrogram(y=time_series, sr=sr).T,axis=0) #mel-scaled spectrogram\r\n",
        "    contrast = np.mean(librosa.feature.spectral_contrast(S=stft, sr=sr).T,axis=0) #spectral contrast\r\n",
        "    tonnetz = np.mean(librosa.feature.tonnetz(y=librosa.effects.harmonic(time_series),sr=sr).T,axis=0) #tonal centroid features\r\n",
        "\r\n",
        "    features = np.hstack([mfccs,chroma,mel,contrast,tonnetz])\r\n",
        "    #print(features.shape) #(193,) the features of one sample in a row (d=193)\r\n",
        "\r\n",
        "    feature_all = np.vstack([feature_all,features]) #stacking samples in a matrix that will be of size nxd (will grow if we loop through all audio files)\r\n",
        "    #print(feature_all.shape) \r\n",
        "  \r\n",
        "labels = np.array(labels)"
      ],
      "execution_count": null,
      "outputs": [
        {
          "output_type": "stream",
          "text": [
            "/usr/local/lib/python3.6/dist-packages/librosa/core/spectrum.py:224: UserWarning: n_fft=1024 is too small for input signal of length=1012\n",
            "  n_fft, y.shape[-1]\n"
          ],
          "name": "stderr"
        }
      ]
    },
    {
      "cell_type": "code",
      "metadata": {
        "id": "SAKklSmQx92H"
      },
      "source": [
        "##Saving extracted features and labels into .npy arrays for later use\r\n",
        "np.save(join(project_path,'feature_matrix'),feature_all)\r\n",
        "np.save(join(project_path,'labels'),labels)    "
      ],
      "execution_count": null,
      "outputs": []
    },
    {
      "cell_type": "code",
      "metadata": {
        "colab": {
          "base_uri": "https://localhost:8080/"
        },
        "id": "9kRca8_ONHZR",
        "outputId": "daa70aab-74cd-4d92-f510-9d491562dfa4"
      },
      "source": [
        "##Checking if features were properly saved and can be loaded again\r\n",
        "feature_matrix=np.load(join(project_path, 'feature_matrix.npy'))\r\n",
        "sample_labels=np.load(join(project_path, 'labels.npy'))\r\n",
        "\r\n",
        "print(feature_matrix.shape) #(1440, 193)\r\n",
        "print(sample_labels.shape) #(1440,)"
      ],
      "execution_count": null,
      "outputs": [
        {
          "output_type": "stream",
          "text": [
            "(1440, 193)\n",
            "(1440,)\n"
          ],
          "name": "stdout"
        }
      ]
    }
  ]
}