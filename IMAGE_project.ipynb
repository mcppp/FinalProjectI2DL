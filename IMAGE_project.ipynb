{
  "nbformat": 4,
  "nbformat_minor": 0,
  "metadata": {
    "accelerator": "GPU",
    "colab": {
      "name": "IMAGE_project.ipynb",
      "provenance": [],
      "collapsed_sections": [],
      "include_colab_link": true
    },
    "kernelspec": {
      "display_name": "Python 3",
      "language": "python",
      "name": "python3"
    },
    "language_info": {
      "codemirror_mode": {
        "name": "ipython",
        "version": 3
      },
      "file_extension": ".py",
      "mimetype": "text/x-python",
      "name": "python",
      "nbconvert_exporter": "python",
      "pygments_lexer": "ipython3",
      "version": "3.7.6"
    },
    "widgets": {
      "application/vnd.jupyter.widget-state+json": {
        "7aaf7bb20f554ef1ac2e7320f29f9ccf": {
          "model_module": "@jupyter-widgets/controls",
          "model_name": "HBoxModel",
          "state": {
            "_dom_classes": [],
            "_model_module": "@jupyter-widgets/controls",
            "_model_module_version": "1.5.0",
            "_model_name": "HBoxModel",
            "_view_count": null,
            "_view_module": "@jupyter-widgets/controls",
            "_view_module_version": "1.5.0",
            "_view_name": "HBoxView",
            "box_style": "",
            "children": [
              "IPY_MODEL_56e8dfaa8c6649fdb644bf41a6307609",
              "IPY_MODEL_33e4d06196a341c695d696842e0390ef"
            ],
            "layout": "IPY_MODEL_0b17693a0fb24bf0a4ded40807214b83"
          }
        },
        "0b17693a0fb24bf0a4ded40807214b83": {
          "model_module": "@jupyter-widgets/base",
          "model_name": "LayoutModel",
          "state": {
            "_model_module": "@jupyter-widgets/base",
            "_model_module_version": "1.2.0",
            "_model_name": "LayoutModel",
            "_view_count": null,
            "_view_module": "@jupyter-widgets/base",
            "_view_module_version": "1.2.0",
            "_view_name": "LayoutView",
            "align_content": null,
            "align_items": null,
            "align_self": null,
            "border": null,
            "bottom": null,
            "display": null,
            "flex": null,
            "flex_flow": null,
            "grid_area": null,
            "grid_auto_columns": null,
            "grid_auto_flow": null,
            "grid_auto_rows": null,
            "grid_column": null,
            "grid_gap": null,
            "grid_row": null,
            "grid_template_areas": null,
            "grid_template_columns": null,
            "grid_template_rows": null,
            "height": null,
            "justify_content": null,
            "justify_items": null,
            "left": null,
            "margin": null,
            "max_height": null,
            "max_width": null,
            "min_height": null,
            "min_width": null,
            "object_fit": null,
            "object_position": null,
            "order": null,
            "overflow": null,
            "overflow_x": null,
            "overflow_y": null,
            "padding": null,
            "right": null,
            "top": null,
            "visibility": null,
            "width": null
          }
        },
        "56e8dfaa8c6649fdb644bf41a6307609": {
          "model_module": "@jupyter-widgets/controls",
          "model_name": "FloatProgressModel",
          "state": {
            "_dom_classes": [],
            "_model_module": "@jupyter-widgets/controls",
            "_model_module_version": "1.5.0",
            "_model_name": "FloatProgressModel",
            "_view_count": null,
            "_view_module": "@jupyter-widgets/controls",
            "_view_module_version": "1.5.0",
            "_view_name": "ProgressView",
            "bar_style": "danger",
            "description": "  0%",
            "description_tooltip": null,
            "layout": "IPY_MODEL_ee9a4aea63d04e509e14b2522f475ec7",
            "max": 200,
            "min": 0,
            "orientation": "horizontal",
            "style": "IPY_MODEL_b8ca4041d1664ced99d093a2d6be023e",
            "value": 0
          }
        },
        "33e4d06196a341c695d696842e0390ef": {
          "model_module": "@jupyter-widgets/controls",
          "model_name": "HTMLModel",
          "state": {
            "_dom_classes": [],
            "_model_module": "@jupyter-widgets/controls",
            "_model_module_version": "1.5.0",
            "_model_name": "HTMLModel",
            "_view_count": null,
            "_view_module": "@jupyter-widgets/controls",
            "_view_module_version": "1.5.0",
            "_view_name": "HTMLView",
            "description": "",
            "description_tooltip": null,
            "layout": "IPY_MODEL_6f67458f93f34d488f300a97c9a335a3",
            "placeholder": "​",
            "style": "IPY_MODEL_dcc1307eed394c569f775e37c73af6a3",
            "value": " 0/200 [30:34&lt;?, ?it/s]"
          }
        },
        "b8ca4041d1664ced99d093a2d6be023e": {
          "model_module": "@jupyter-widgets/controls",
          "model_name": "ProgressStyleModel",
          "state": {
            "_model_module": "@jupyter-widgets/controls",
            "_model_module_version": "1.5.0",
            "_model_name": "ProgressStyleModel",
            "_view_count": null,
            "_view_module": "@jupyter-widgets/base",
            "_view_module_version": "1.2.0",
            "_view_name": "StyleView",
            "bar_color": null,
            "description_width": "initial"
          }
        },
        "ee9a4aea63d04e509e14b2522f475ec7": {
          "model_module": "@jupyter-widgets/base",
          "model_name": "LayoutModel",
          "state": {
            "_model_module": "@jupyter-widgets/base",
            "_model_module_version": "1.2.0",
            "_model_name": "LayoutModel",
            "_view_count": null,
            "_view_module": "@jupyter-widgets/base",
            "_view_module_version": "1.2.0",
            "_view_name": "LayoutView",
            "align_content": null,
            "align_items": null,
            "align_self": null,
            "border": null,
            "bottom": null,
            "display": null,
            "flex": null,
            "flex_flow": null,
            "grid_area": null,
            "grid_auto_columns": null,
            "grid_auto_flow": null,
            "grid_auto_rows": null,
            "grid_column": null,
            "grid_gap": null,
            "grid_row": null,
            "grid_template_areas": null,
            "grid_template_columns": null,
            "grid_template_rows": null,
            "height": null,
            "justify_content": null,
            "justify_items": null,
            "left": null,
            "margin": null,
            "max_height": null,
            "max_width": null,
            "min_height": null,
            "min_width": null,
            "object_fit": null,
            "object_position": null,
            "order": null,
            "overflow": null,
            "overflow_x": null,
            "overflow_y": null,
            "padding": null,
            "right": null,
            "top": null,
            "visibility": null,
            "width": null
          }
        },
        "dcc1307eed394c569f775e37c73af6a3": {
          "model_module": "@jupyter-widgets/controls",
          "model_name": "DescriptionStyleModel",
          "state": {
            "_model_module": "@jupyter-widgets/controls",
            "_model_module_version": "1.5.0",
            "_model_name": "DescriptionStyleModel",
            "_view_count": null,
            "_view_module": "@jupyter-widgets/base",
            "_view_module_version": "1.2.0",
            "_view_name": "StyleView",
            "description_width": ""
          }
        },
        "6f67458f93f34d488f300a97c9a335a3": {
          "model_module": "@jupyter-widgets/base",
          "model_name": "LayoutModel",
          "state": {
            "_model_module": "@jupyter-widgets/base",
            "_model_module_version": "1.2.0",
            "_model_name": "LayoutModel",
            "_view_count": null,
            "_view_module": "@jupyter-widgets/base",
            "_view_module_version": "1.2.0",
            "_view_name": "LayoutView",
            "align_content": null,
            "align_items": null,
            "align_self": null,
            "border": null,
            "bottom": null,
            "display": null,
            "flex": null,
            "flex_flow": null,
            "grid_area": null,
            "grid_auto_columns": null,
            "grid_auto_flow": null,
            "grid_auto_rows": null,
            "grid_column": null,
            "grid_gap": null,
            "grid_row": null,
            "grid_template_areas": null,
            "grid_template_columns": null,
            "grid_template_rows": null,
            "height": null,
            "justify_content": null,
            "justify_items": null,
            "left": null,
            "margin": null,
            "max_height": null,
            "max_width": null,
            "min_height": null,
            "min_width": null,
            "object_fit": null,
            "object_position": null,
            "order": null,
            "overflow": null,
            "overflow_x": null,
            "overflow_y": null,
            "padding": null,
            "right": null,
            "top": null,
            "visibility": null,
            "width": null
          }
        },
        "7ae4fb30c2e54ca7bb6b21c6e90638f9": {
          "model_module": "@jupyter-widgets/controls",
          "model_name": "HBoxModel",
          "state": {
            "_dom_classes": [],
            "_model_module": "@jupyter-widgets/controls",
            "_model_module_version": "1.5.0",
            "_model_name": "HBoxModel",
            "_view_count": null,
            "_view_module": "@jupyter-widgets/controls",
            "_view_module_version": "1.5.0",
            "_view_name": "HBoxView",
            "box_style": "",
            "children": [
              "IPY_MODEL_d0af9df52f164d16ae34fa5400a12f24",
              "IPY_MODEL_9097a94445b1472da35d4d2696bcc0fa"
            ],
            "layout": "IPY_MODEL_eb098a706db54726802d1a7227814d3f"
          }
        },
        "eb098a706db54726802d1a7227814d3f": {
          "model_module": "@jupyter-widgets/base",
          "model_name": "LayoutModel",
          "state": {
            "_model_module": "@jupyter-widgets/base",
            "_model_module_version": "1.2.0",
            "_model_name": "LayoutModel",
            "_view_count": null,
            "_view_module": "@jupyter-widgets/base",
            "_view_module_version": "1.2.0",
            "_view_name": "LayoutView",
            "align_content": null,
            "align_items": null,
            "align_self": null,
            "border": null,
            "bottom": null,
            "display": null,
            "flex": null,
            "flex_flow": null,
            "grid_area": null,
            "grid_auto_columns": null,
            "grid_auto_flow": null,
            "grid_auto_rows": null,
            "grid_column": null,
            "grid_gap": null,
            "grid_row": null,
            "grid_template_areas": null,
            "grid_template_columns": null,
            "grid_template_rows": null,
            "height": null,
            "justify_content": null,
            "justify_items": null,
            "left": null,
            "margin": null,
            "max_height": null,
            "max_width": null,
            "min_height": null,
            "min_width": null,
            "object_fit": null,
            "object_position": null,
            "order": null,
            "overflow": null,
            "overflow_x": null,
            "overflow_y": null,
            "padding": null,
            "right": null,
            "top": null,
            "visibility": null,
            "width": null
          }
        },
        "d0af9df52f164d16ae34fa5400a12f24": {
          "model_module": "@jupyter-widgets/controls",
          "model_name": "FloatProgressModel",
          "state": {
            "_dom_classes": [],
            "_model_module": "@jupyter-widgets/controls",
            "_model_module_version": "1.5.0",
            "_model_name": "FloatProgressModel",
            "_view_count": null,
            "_view_module": "@jupyter-widgets/controls",
            "_view_module_version": "1.5.0",
            "_view_name": "ProgressView",
            "bar_style": "danger",
            "description": " 24%",
            "description_tooltip": null,
            "layout": "IPY_MODEL_9b2e12b6545e4ebfa2dc066ed5ab96bc",
            "max": 449,
            "min": 0,
            "orientation": "horizontal",
            "style": "IPY_MODEL_13e22aa55bd749a5906644343a0530b2",
            "value": 108
          }
        },
        "9097a94445b1472da35d4d2696bcc0fa": {
          "model_module": "@jupyter-widgets/controls",
          "model_name": "HTMLModel",
          "state": {
            "_dom_classes": [],
            "_model_module": "@jupyter-widgets/controls",
            "_model_module_version": "1.5.0",
            "_model_name": "HTMLModel",
            "_view_count": null,
            "_view_module": "@jupyter-widgets/controls",
            "_view_module_version": "1.5.0",
            "_view_name": "HTMLView",
            "description": "",
            "description_tooltip": null,
            "layout": "IPY_MODEL_fbd48c2515944b6fb902db3bbf17b404",
            "placeholder": "​",
            "style": "IPY_MODEL_8f9390712f4f4971b44d614ea3318936",
            "value": " 108/449 [30:34&lt;1:36:32, 16.99s/it]"
          }
        },
        "13e22aa55bd749a5906644343a0530b2": {
          "model_module": "@jupyter-widgets/controls",
          "model_name": "ProgressStyleModel",
          "state": {
            "_model_module": "@jupyter-widgets/controls",
            "_model_module_version": "1.5.0",
            "_model_name": "ProgressStyleModel",
            "_view_count": null,
            "_view_module": "@jupyter-widgets/base",
            "_view_module_version": "1.2.0",
            "_view_name": "StyleView",
            "bar_color": null,
            "description_width": "initial"
          }
        },
        "9b2e12b6545e4ebfa2dc066ed5ab96bc": {
          "model_module": "@jupyter-widgets/base",
          "model_name": "LayoutModel",
          "state": {
            "_model_module": "@jupyter-widgets/base",
            "_model_module_version": "1.2.0",
            "_model_name": "LayoutModel",
            "_view_count": null,
            "_view_module": "@jupyter-widgets/base",
            "_view_module_version": "1.2.0",
            "_view_name": "LayoutView",
            "align_content": null,
            "align_items": null,
            "align_self": null,
            "border": null,
            "bottom": null,
            "display": null,
            "flex": null,
            "flex_flow": null,
            "grid_area": null,
            "grid_auto_columns": null,
            "grid_auto_flow": null,
            "grid_auto_rows": null,
            "grid_column": null,
            "grid_gap": null,
            "grid_row": null,
            "grid_template_areas": null,
            "grid_template_columns": null,
            "grid_template_rows": null,
            "height": null,
            "justify_content": null,
            "justify_items": null,
            "left": null,
            "margin": null,
            "max_height": null,
            "max_width": null,
            "min_height": null,
            "min_width": null,
            "object_fit": null,
            "object_position": null,
            "order": null,
            "overflow": null,
            "overflow_x": null,
            "overflow_y": null,
            "padding": null,
            "right": null,
            "top": null,
            "visibility": null,
            "width": null
          }
        },
        "8f9390712f4f4971b44d614ea3318936": {
          "model_module": "@jupyter-widgets/controls",
          "model_name": "DescriptionStyleModel",
          "state": {
            "_model_module": "@jupyter-widgets/controls",
            "_model_module_version": "1.5.0",
            "_model_name": "DescriptionStyleModel",
            "_view_count": null,
            "_view_module": "@jupyter-widgets/base",
            "_view_module_version": "1.2.0",
            "_view_name": "StyleView",
            "description_width": ""
          }
        },
        "fbd48c2515944b6fb902db3bbf17b404": {
          "model_module": "@jupyter-widgets/base",
          "model_name": "LayoutModel",
          "state": {
            "_model_module": "@jupyter-widgets/base",
            "_model_module_version": "1.2.0",
            "_model_name": "LayoutModel",
            "_view_count": null,
            "_view_module": "@jupyter-widgets/base",
            "_view_module_version": "1.2.0",
            "_view_name": "LayoutView",
            "align_content": null,
            "align_items": null,
            "align_self": null,
            "border": null,
            "bottom": null,
            "display": null,
            "flex": null,
            "flex_flow": null,
            "grid_area": null,
            "grid_auto_columns": null,
            "grid_auto_flow": null,
            "grid_auto_rows": null,
            "grid_column": null,
            "grid_gap": null,
            "grid_row": null,
            "grid_template_areas": null,
            "grid_template_columns": null,
            "grid_template_rows": null,
            "height": null,
            "justify_content": null,
            "justify_items": null,
            "left": null,
            "margin": null,
            "max_height": null,
            "max_width": null,
            "min_height": null,
            "min_width": null,
            "object_fit": null,
            "object_position": null,
            "order": null,
            "overflow": null,
            "overflow_x": null,
            "overflow_y": null,
            "padding": null,
            "right": null,
            "top": null,
            "visibility": null,
            "width": null
          }
        }
      }
    }
  },
  "cells": [
    {
      "cell_type": "markdown",
      "metadata": {
        "id": "view-in-github",
        "colab_type": "text"
      },
      "source": [
        "<a href=\"https://colab.research.google.com/github/mcppp/FinalProjectI2DL/blob/main/IMAGE_project.ipynb\" target=\"_parent\"><img src=\"https://colab.research.google.com/assets/colab-badge.svg\" alt=\"Open In Colab\"/></a>"
      ]
    },
    {
      "cell_type": "code",
      "metadata": {
        "colab": {
          "base_uri": "https://localhost:8080/"
        },
        "id": "X1f7bWu9lJtX",
        "outputId": "b6739968-cad8-430a-c36e-8d12b6ae691b"
      },
      "source": [
        "import os\n",
        "import csv\n",
        "import numpy as np\n",
        "from tqdm.notebook import tqdm\n",
        "\n",
        "import matplotlib.pyplot as plt\n",
        "\n",
        "# Module for Importing Images from a custom dataset into Pytorch\n",
        "from PIL import Image \n",
        "\n",
        "import torch\n",
        "import torchvision\n",
        "import torch.nn as nn\n",
        "import torch.nn.functional as F\n",
        "import torch.optim as optim\n",
        "from torch.utils.data import Dataset, DataLoader\n",
        "\n",
        "from torch.optim.lr_scheduler import StepLR\n",
        "\n",
        "print(torch.__version__)"
      ],
      "execution_count": null,
      "outputs": [
        {
          "output_type": "stream",
          "text": [
            "1.7.1\n"
          ],
          "name": "stdout"
        }
      ]
    },
    {
      "cell_type": "code",
      "metadata": {
        "id": "pcMuF_m9Ev8W"
      },
      "source": [
        "data_path = './FER2013' #where to find dataset, modify path as needed\n",
        "model_dir = './models'  #where to save models, modify path as needed "
      ],
      "execution_count": null,
      "outputs": []
    },
    {
      "cell_type": "code",
      "metadata": {
        "id": "NFxwfpOxHcAk"
      },
      "source": [
        "class FERdataset(Dataset):\n",
        "    def __init__(self, data_path, is_training):\n",
        "        self.data_path = data_path\n",
        "        self.train_path = os.path.join(data_path, 'train') #directory path for train set\n",
        "        self.val_path = os.path.join(data_path, 'validate') #directory path for validation set\n",
        "        self.is_training = is_training\n",
        "        if self.is_training:  #based on flag is_training, the target_path will be assigned\n",
        "            self.target_path = self.train_path\n",
        "        else:\n",
        "            self.target_path = self.val_path\n",
        "\n",
        "        self.classes = sorted(os.listdir(self.target_path)) #sorted list of classes available in target_path directory\n",
        "        self.img_path_label = list() #creating empty list \n",
        "        for c in self.classes: #for all classes found in directory\n",
        "            img_list = os.listdir(os.path.join(self.target_path, c)) #list of img names found in target_path/c with c being the name of each class\n",
        "            for fp in img_list: #for each img in each class folder\n",
        "                full_fp = os.path.join(self.target_path, c, fp)  #save full path of each image\n",
        "                self.img_path_label.append((full_fp, c, self.classes.index(c))) #fill/make list of full file path of img, class name, index of class required to train nn\n",
        "        \n",
        "      \n",
        "        self.tensor_transform = torchvision.transforms.ToTensor() #converst img to tensor type\n",
        "               \n",
        "    def __len__(self):\n",
        "        return len(self.img_path_label)\n",
        "\n",
        "    def __getitem__(self, idx):\n",
        "        (fp, class_name, class_label) = self.img_path_label[idx]\n",
        "        img = Image.open(fp)\n",
        "        original_img = self.tensor_transform(img)  #make original img into tensor\n",
        "\n",
        "        inputs = self.tensor_transform(img) #applying defined transformations to validation data\n",
        "            \n",
        "        sample = dict()   #creating dict\n",
        "        sample['input'] = inputs #our transformed image\n",
        "        sample['original_img'] = original_img  #original image\n",
        "        sample['target'] = class_label\n",
        "        sample['class_name'] = class_name\n",
        "\n",
        "        return sample"
      ],
      "execution_count": null,
      "outputs": []
    },
    {
      "cell_type": "code",
      "metadata": {
        "id": "3RzglEQ2cHGA",
        "outputId": "15d83e0b-b323-48e2-83a4-8650d3f44df4"
      },
      "source": [
        "train_dataset = FERdataset(data_path, True)\n",
        "val_dataset = FERdataset(data_path, False)\n",
        "\n",
        "len(val_dataset)"
      ],
      "execution_count": null,
      "outputs": [
        {
          "output_type": "execute_result",
          "data": {
            "text/plain": [
              "7178"
            ]
          },
          "metadata": {
            "tags": []
          },
          "execution_count": 4
        }
      ]
    },
    {
      "cell_type": "code",
      "metadata": {
        "id": "4YNwIdxrcHGB"
      },
      "source": [
        "torch.manual_seed(0)\n",
        "val_set, test_set = torch.utils.data.random_split(val_dataset, [3589, 3589])"
      ],
      "execution_count": null,
      "outputs": []
    },
    {
      "cell_type": "code",
      "metadata": {
        "id": "dJLrwTOxI127"
      },
      "source": [
        "batch_size = 64\n",
        "\n",
        "\n",
        "train_dataloader = DataLoader(train_dataset, batch_size=batch_size, shuffle=True, pin_memory=True) #DataLoader is for batching, etc. (sampling)\n",
        "\n",
        "val_dataloader = DataLoader(val_set, batch_size=1, shuffle=False, pin_memory=True)\n",
        "\n",
        "test_dataloader = DataLoader(test_set, batch_size=1, shuffle=False, pin_memory=True)\n",
        "\n",
        "num_classes = 7"
      ],
      "execution_count": null,
      "outputs": []
    },
    {
      "cell_type": "code",
      "metadata": {
        "id": "pI2z7aqgMcUJ"
      },
      "source": [
        "sample = next(iter(train_dataloader)) #providing us with one training sample"
      ],
      "execution_count": null,
      "outputs": []
    },
    {
      "cell_type": "code",
      "metadata": {
        "colab": {
          "base_uri": "https://localhost:8080/",
          "height": 267
        },
        "id": "Om1kuFjBcOq2",
        "outputId": "a991ee05-f320-4ba8-bb1b-b49bd5fa7d72"
      },
      "source": [
        "imgplot = plt.imshow(sample['input'][0].squeeze())\n",
        "plt.show()"
      ],
      "execution_count": null,
      "outputs": [
        {
          "output_type": "display_data",
          "data": {
            "image/png": "[encoded data removed]",
            "text/plain": [
              "<Figure size 432x288 with 1 Axes>"
            ]
          },
          "metadata": {
            "tags": [],
            "needs_background": "light"
          }
        }
      ]
    },
    {
      "cell_type": "code",
      "metadata": {
        "colab": {
          "base_uri": "https://localhost:8080/",
          "height": 200
        },
        "id": "6rsIBq2rIxA_",
        "outputId": "436df368-5c15-42ed-be3f-4521b5511a96"
      },
      "source": [
        "fig, ax = plt.subplots(1, 7, figsize=(20, 10))\n",
        "for i in range(7):\n",
        "    ax[i].imshow(sample['input'][i].squeeze())\n",
        "    ax[i].set_title(sample['class_name'][i])\n",
        " "
      ],
      "execution_count": null,
      "outputs": [
        {
          "output_type": "display_data",
          "data": {
            "image/png": "[encoded data removed]",
            "text/plain": [
              "<Figure size 1440x720 with 7 Axes>"
            ]
          },
          "metadata": {
            "tags": [],
            "needs_background": "light"
          }
        }
      ]
    },
    {
      "cell_type": "code",
      "metadata": {
        "colab": {
          "base_uri": "https://localhost:8080/"
        },
        "id": "k44xmCOHHmF4",
        "outputId": "6fe7664f-716c-4661-ae88-1d3964c5fae6"
      },
      "source": [
        "# device = 'cpu'\n",
        "device = 'cuda'\n",
        "print('Current Device : {}'.format(device))"
      ],
      "execution_count": null,
      "outputs": [
        {
          "output_type": "stream",
          "text": [
            "Current Device : cuda\n"
          ],
          "name": "stdout"
        }
      ]
    },
    {
      "cell_type": "code",
      "metadata": {
        "id": "Cx-fxCW5JD_w"
      },
      "source": [
        "class Model(nn.Module): \n",
        "    def __init__(self, feat_dim = 2048, dim_output=7):\n",
        "        super(Model, self).__init__()\n",
        "\n",
        "        self.feat_dim = feat_dim #dim of feature after getting flattened into a vector (we check this, we do not know it in advance)\n",
        "        self.dim_output = dim_output #output dimension = number of classes\n",
        "        \n",
        "\n",
        "        ###################################### PRE-TRAINED MODEL ###########################################\n",
        "        self.backbone = torchvision.models.resnet152(pretrained=True) #download model that's already been trained based on image classification problem\n",
        "        \n",
        "        for p in list(self.backbone.children())[:-1]:\n",
        "            p.requires_grad = False  #parameters of layers inside list in line above become fixed\n",
        "                                     #True: parameter will be trained, False: parameter won't be trained, frozen\n",
        "          \n",
        "        # # # get the structure until the Fully Connected Layer\n",
        "        modules = list(self.backbone.children())[:-1]  #list of all layers except last one (the fc one)\n",
        "        self.backbone = nn.Sequential(*modules) #put list into nn mode, not just a list -> this is our new model without last layer\n",
        "\n",
        "        \n",
        "        ######################################## DEFINING MY NEW LAYERS ####################################################\n",
        "        self.fc1 = nn.Linear(feat_dim, feat_dim//2) # 2048 -> 1024 \n",
        "                                                    # we know input has to be 2048 because that was the input of the fc we deleted from pre-trained model\n",
        "        self.fc2 = nn.Linear(feat_dim//2, feat_dim//4) # 1024 -> 512\n",
        "        self.fc3 = nn.Linear(feat_dim//4, dim_output) # 512 -> 7 must be the output dim, it is the number of classes (pokemon types)\n",
        "       \n",
        "        self.dropout = nn.Dropout(p=0.5)\n",
        "        self.relu = nn.LeakyReLU(0.1, inplace=True)\n",
        "\n",
        "        \n",
        "        ######################################## STRUCTURE OF FINAL MODEL ####################################################\n",
        "\n",
        "    def forward(self, img):  \n",
        "        batch_size = img.shape[0] # it is the previously defined batch_size, which is the first dim of the image\n",
        "        out = self.backbone(img) # torch.Size([64, 2048, 1, 1])\n",
        "        # print(out.shape)\n",
        "                                 # get the feature from the pre-trained resnet\n",
        "                                 # this gets output of pre-trained resnet (excluding last layer fc that we took out, so now dim is 2048)\n",
        "       \n",
        "        out = out.view(batch_size, -1)      \n",
        "        out = self.fc1(out) \n",
        "        out = self.dropout(self.relu(out)) \n",
        "        out = self.fc2(out) \n",
        "        out = self.dropout(self.relu(out)) \n",
        "        out = self.fc3(out) \n",
        "\n",
        "        return out"
      ],
      "execution_count": null,
      "outputs": []
    },
    {
      "cell_type": "code",
      "metadata": {
        "id": "ZWtw-y-MKuv1"
      },
      "source": [
        "model = Model() # creating model\n",
        "model = model.to(device) # to train on GPU\n",
        "\n",
        "optimizer = optim.AdamW(model.parameters(), lr=1e-4) #defining optimizer"
      ],
      "execution_count": null,
      "outputs": []
    },
    {
      "cell_type": "code",
      "metadata": {
        "id": "hkZtj5hZc6Yy"
      },
      "source": [
        "# gamma = decaying factor\n",
        "scheduler = StepLR(optimizer, step_size=4, gamma=0.1)"
      ],
      "execution_count": null,
      "outputs": []
    },
    {
      "cell_type": "code",
      "metadata": {
        "id": "Q9pXkpAMK42y"
      },
      "source": [
        "def train(model, optimizer, sample):  #Only defined for one batch????\n",
        "    \n",
        "    model.train() # setting training mode\n",
        "\n",
        "    criterion = nn.CrossEntropyLoss() #loss function (CrossEntropy convenient when training for many classes)\n",
        "\n",
        "    optimizer.zero_grad() # setting gradients to zero before starting backpropagation (PyTorch accumulates the gradients on subsequent backward passes)\n",
        "\n",
        "    inp = np.repeat(sample['input'].squeeze()[..., np.newaxis], 3, -1)\n",
        " \n",
        "    input = inp.permute(0,3,1,2).float().to(device) # our transformed image batch; torch.Size([64, 3, 224, 224])\n",
        "    target = sample['target'].long().to(device) # class label batch; torch.Size([64])\n",
        "    \n",
        "    pred = model(input) # each should give: torch.Size([64, 18])\n",
        "\n",
        "    pred_loss = criterion(pred, target) # calculate prediction loss for one batch, should be of size 64\n",
        "    \n",
        "    top3_val, top3_idx = torch.topk(pred, 3) \n",
        "    \n",
        "    num_correct = torch.sum(top3_idx == target.view(-1, 1))     \n",
        "    \n",
        "    \n",
        "    reg_loss = 0.0\n",
        "    for p in model.parameters(): #iterate parameters inside the model\n",
        "       if p.requires_grad: #this parameter is the trainable parameter\n",
        "         reg_loss += torch.norm(p, 2)  #norm 2, this is regularization loss\n",
        "    total_loss = pred_loss + 1e-6 * reg_loss\n",
        "    \n",
        "    \n",
        "    \n",
        "    total_loss.backward() \n",
        "    \n",
        "    optimizer.step() \n",
        "    \n",
        "    return pred_loss.item(), num_correct.item()"
      ],
      "execution_count": null,
      "outputs": []
    },
    {
      "cell_type": "code",
      "metadata": {
        "id": "MhcKwq8WOUGu"
      },
      "source": [
        "def validate(model, sample):\n",
        "    model.eval()  #turning on evaluatino time\n",
        "\n",
        "    criterion = nn.CrossEntropyLoss() #loss function\n",
        "\n",
        "    with torch.no_grad(): # turning off gradient computation when we know we won't call tensor.backward()\n",
        "                          \n",
        "        inp = np.repeat(sample['input'].squeeze()[..., np.newaxis], 3, -1)\n",
        "        inp = torch.Tensor(inp)\n",
        "        inp = torch.unsqueeze(inp, 0)\n",
        "        inp = inp.permute(0,3,1,2)        \n",
        "       \n",
        "        input=inp.float().to(device) \n",
        "        target = sample['target'].long().to(device)\n",
        "\n",
        "        pred = model(input)\n",
        "        pred_loss = criterion(pred, target)\n",
        "\n",
        "        top3_val, top3_idx = torch.topk(pred, 3)\n",
        "\n",
        "        num_correct = torch.sum(top3_idx == target.view(-1, 1))\n",
        "\n",
        "    return pred_loss.item(), num_correct.item(), pred"
      ],
      "execution_count": null,
      "outputs": []
    },
    {
      "cell_type": "code",
      "metadata": {
        "id": "Tc0EyKiicHGG"
      },
      "source": [
        "##Creating empty lists to save variables for plotting later\n",
        "val_list =list()\n",
        "train_list =list()\n",
        "epochs_list = list()"
      ],
      "execution_count": null,
      "outputs": []
    },
    {
      "cell_type": "code",
      "metadata": {
        "colab": {
          "base_uri": "https://localhost:8080/",
          "height": 455,
          "referenced_widgets": [
            "7aaf7bb20f554ef1ac2e7320f29f9ccf",
            "0b17693a0fb24bf0a4ded40807214b83",
            "56e8dfaa8c6649fdb644bf41a6307609",
            "33e4d06196a341c695d696842e0390ef",
            "b8ca4041d1664ced99d093a2d6be023e",
            "ee9a4aea63d04e509e14b2522f475ec7",
            "dcc1307eed394c569f775e37c73af6a3",
            "6f67458f93f34d488f300a97c9a335a3",
            "7ae4fb30c2e54ca7bb6b21c6e90638f9",
            "eb098a706db54726802d1a7227814d3f",
            "d0af9df52f164d16ae34fa5400a12f24",
            "9097a94445b1472da35d4d2696bcc0fa",
            "13e22aa55bd749a5906644343a0530b2",
            "9b2e12b6545e4ebfa2dc066ed5ab96bc",
            "8f9390712f4f4971b44d614ea3318936",
            "fbd48c2515944b6fb902db3bbf17b404",
            "b1d499126c3a4d79a6350a0a5237512e",
            "80c8aaa34b3e4d129a19bc61e0638d61",
            "04cf280c487340c09f5117edcefda1ed",
            "ef8dd65634b34adc82750cc7242cb67f",
            "1779089c17c2487095d422d5b035debf",
            "a7440d4b9f8c4e3fb9b50247f302a64c",
            "66ec14c7169942dcad5709e161632dfb",
            "d2c6dadc05044572ba4b21ca790f996e",
            "ce84494fa4d54f0c8f3aee0030ba422b",
            "2c398fe4ff8e4cc186084683d8914185",
            "a91053b0125b4518b4bc8e15d62fa8c1",
            "2e2c18627d7c486c92c993fe9a615efe",
            "19c930f8c343441fb33b16c1912b255d",
            "5f6ee6eecc964ad49cbaaa2c6944b002"
          ]
        },
        "id": "-kTrpt4YMRS6",
        "outputId": "9e4ce922-371c-4a2d-8290-c74edb48831d"
      },
      "source": [
        "# ##RUNING TRAINING\n",
        "# max_epoch = 200   #how many times the whole dataset will be trained\n",
        "# save_stride = 10\n",
        "# tmp_path = './checkpoint.pth'\n",
        "# max_accu = -1\n",
        "# for epoch in tqdm(range(max_epoch)):   \n",
        "    \n",
        "    \n",
        "   \n",
        "#     ################################################### TRAIN PHASE ########################################################\n",
        "    \n",
        "#     # Initialize Loss and Accuracy\n",
        "#     train_loss = 0.0\n",
        "#     train_accu = 0.0\n",
        "\n",
        "#     # Iterate over the train_dataloader\n",
        "#     with tqdm(total=len(train_dataloader)) as pbar: # SUB PROGRESS BAR 1 / total=46 is the amount of batches made when choosing batch_size=64\n",
        "#         for idx, sample in enumerate(train_dataloader):  #for each of the 46 batches of images when batch_size is 64\n",
        "#             curr_loss, num_correct = train(model, optimizer, sample)  #call train and save current pred_loss and num_correct\n",
        "#             train_loss += curr_loss / len(train_dataloader) #average of training loss (loss of each batch / amount of batches)\n",
        "#             train_accu += num_correct / len(train_dataset)  #average of training accuracy (correct predicitions / amount of total images)\n",
        "#             pbar.update(1) #update SUB PROGRESS BAR 1 progress bar every time a batch is trained\n",
        "            \n",
        "#     # Decay Learning Rate\n",
        "#     scheduler.step()\n",
        "\n",
        "#     # save the model and optimizer's information before the evaulation\n",
        "#     checkpoint = {   #DO NOT MODIFY\n",
        "#         'model' : Model(),\n",
        "#         'model_state_dict': model.state_dict(),\n",
        "#         'optimizer_state_dict': optimizer.state_dict(),\n",
        "#     }\n",
        "    \n",
        "    \n",
        "#     ################################################### VALIDATION PHASE ########################################################\n",
        "\n",
        "#     # Initialize Loss and Accuracy\n",
        "#     val_loss = 0.0\n",
        "#     val_accu = 0.0\n",
        "\n",
        "#     # Iterate over the val_dataloader\n",
        "#     with tqdm(total=len(val_dataloader)) as pbar: # SUB PROGRESS BAR 2, up to 586 because that's the number of images in the 1 batch of val_dataloader\n",
        "#         for idx, sample in enumerate(val_dataloader): # for each of the 586 images\n",
        "#             curr_loss, num_correct,_ = validate(model, sample)\n",
        "#             val_loss += curr_loss / len(val_dataloader) # average validation loss\n",
        "#             val_accu += num_correct / len(val_dataloader) # average accuracy\n",
        "#             pbar.update(1) # update SUB PROGRESS BAR 2\n",
        "\n",
        "\n",
        "\n",
        "#     max_accu = max(val_accu, max_accu) #keep updating max accuracy reached\n",
        "#     if max_accu == val_accu: #if max accuracy is the current one, save this model\n",
        "#         # Save your best model to the checkpoint\n",
        "#         torch.save(checkpoint, os.path.join(model_dir, 'face_11.pth'))\n",
        "\n",
        "   \n",
        "#     train_list.append(train_accu)\n",
        "#     val_list.append(val_accu)\n",
        "#     epochs_list.append(epoch)\n",
        "\n",
        "#     print(train_accu, val_accu)"
      ],
      "execution_count": null,
      "outputs": [
        {
          "output_type": "display_data",
          "data": {
            "application/vnd.jupyter.widget-view+json": {
              "model_id": "b1d499126c3a4d79a6350a0a5237512e",
              "version_major": 2,
              "version_minor": 0
            },
            "text/plain": [
              "HBox(children=(FloatProgress(value=0.0, max=200.0), HTML(value='')))"
            ]
          },
          "metadata": {
            "tags": []
          }
        },
        {
          "output_type": "display_data",
          "data": {
            "application/vnd.jupyter.widget-view+json": {
              "model_id": "80c8aaa34b3e4d129a19bc61e0638d61",
              "version_major": 2,
              "version_minor": 0
            },
            "text/plain": [
              "HBox(children=(FloatProgress(value=0.0, max=449.0), HTML(value='')))"
            ]
          },
          "metadata": {
            "tags": []
          }
        },
        {
          "output_type": "stream",
          "text": [
            "\n"
          ],
          "name": "stdout"
        },
        {
          "output_type": "display_data",
          "data": {
            "application/vnd.jupyter.widget-view+json": {
              "model_id": "04cf280c487340c09f5117edcefda1ed",
              "version_major": 2,
              "version_minor": 0
            },
            "text/plain": [
              "HBox(children=(FloatProgress(value=0.0, max=3589.0), HTML(value='')))"
            ]
          },
          "metadata": {
            "tags": []
          }
        },
        {
          "output_type": "stream",
          "text": [
            "\n",
            "0.7984255808283135 0.8670938980217219\n"
          ],
          "name": "stdout"
        },
        {
          "output_type": "display_data",
          "data": {
            "application/vnd.jupyter.widget-view+json": {
              "model_id": "ef8dd65634b34adc82750cc7242cb67f",
              "version_major": 2,
              "version_minor": 0
            },
            "text/plain": [
              "HBox(children=(FloatProgress(value=0.0, max=449.0), HTML(value='')))"
            ]
          },
          "metadata": {
            "tags": []
          }
        },
        {
          "output_type": "stream",
          "text": [
            "\n"
          ],
          "name": "stdout"
        },
        {
          "output_type": "display_data",
          "data": {
            "application/vnd.jupyter.widget-view+json": {
              "model_id": "1779089c17c2487095d422d5b035debf",
              "version_major": 2,
              "version_minor": 0
            },
            "text/plain": [
              "HBox(children=(FloatProgress(value=0.0, max=3589.0), HTML(value='')))"
            ]
          },
          "metadata": {
            "tags": []
          }
        },
        {
          "output_type": "stream",
          "text": [
            "\n",
            "0.8973492632972256 0.8918918918918803\n"
          ],
          "name": "stdout"
        },
        {
          "output_type": "display_data",
          "data": {
            "application/vnd.jupyter.widget-view+json": {
              "model_id": "a7440d4b9f8c4e3fb9b50247f302a64c",
              "version_major": 2,
              "version_minor": 0
            },
            "text/plain": [
              "HBox(children=(FloatProgress(value=0.0, max=449.0), HTML(value='')))"
            ]
          },
          "metadata": {
            "tags": []
          }
        },
        {
          "output_type": "stream",
          "text": [
            "\n"
          ],
          "name": "stdout"
        },
        {
          "output_type": "display_data",
          "data": {
            "application/vnd.jupyter.widget-view+json": {
              "model_id": "66ec14c7169942dcad5709e161632dfb",
              "version_major": 2,
              "version_minor": 0
            },
            "text/plain": [
              "HBox(children=(FloatProgress(value=0.0, max=3589.0), HTML(value='')))"
            ]
          },
          "metadata": {
            "tags": []
          }
        },
        {
          "output_type": "stream",
          "text": [
            "\n",
            "0.942909888885016 0.8885483421565781\n"
          ],
          "name": "stdout"
        },
        {
          "output_type": "display_data",
          "data": {
            "application/vnd.jupyter.widget-view+json": {
              "model_id": "d2c6dadc05044572ba4b21ca790f996e",
              "version_major": 2,
              "version_minor": 0
            },
            "text/plain": [
              "HBox(children=(FloatProgress(value=0.0, max=449.0), HTML(value='')))"
            ]
          },
          "metadata": {
            "tags": []
          }
        },
        {
          "output_type": "stream",
          "text": [
            "\n"
          ],
          "name": "stdout"
        },
        {
          "output_type": "display_data",
          "data": {
            "application/vnd.jupyter.widget-view+json": {
              "model_id": "ce84494fa4d54f0c8f3aee0030ba422b",
              "version_major": 2,
              "version_minor": 0
            },
            "text/plain": [
              "HBox(children=(FloatProgress(value=0.0, max=3589.0), HTML(value='')))"
            ]
          },
          "metadata": {
            "tags": []
          }
        },
        {
          "output_type": "stream",
          "text": [
            "\n",
            "0.9688947716743859 0.8991362496517019\n"
          ],
          "name": "stdout"
        },
        {
          "output_type": "display_data",
          "data": {
            "application/vnd.jupyter.widget-view+json": {
              "model_id": "2c398fe4ff8e4cc186084683d8914185",
              "version_major": 2,
              "version_minor": 0
            },
            "text/plain": [
              "HBox(children=(FloatProgress(value=0.0, max=449.0), HTML(value='')))"
            ]
          },
          "metadata": {
            "tags": []
          }
        },
        {
          "output_type": "stream",
          "text": [
            "\n"
          ],
          "name": "stdout"
        },
        {
          "output_type": "display_data",
          "data": {
            "application/vnd.jupyter.widget-view+json": {
              "model_id": "a91053b0125b4518b4bc8e15d62fa8c1",
              "version_major": 2,
              "version_minor": 0
            },
            "text/plain": [
              "HBox(children=(FloatProgress(value=0.0, max=3589.0), HTML(value='')))"
            ]
          },
          "metadata": {
            "tags": []
          }
        },
        {
          "output_type": "stream",
          "text": [
            "\n",
            "0.9920582395764368 0.9055447199776979\n"
          ],
          "name": "stdout"
        },
        {
          "output_type": "display_data",
          "data": {
            "application/vnd.jupyter.widget-view+json": {
              "model_id": "2e2c18627d7c486c92c993fe9a615efe",
              "version_major": 2,
              "version_minor": 0
            },
            "text/plain": [
              "HBox(children=(FloatProgress(value=0.0, max=449.0), HTML(value='')))"
            ]
          },
          "metadata": {
            "tags": []
          }
        },
        {
          "output_type": "stream",
          "text": [
            "\n"
          ],
          "name": "stdout"
        },
        {
          "output_type": "display_data",
          "data": {
            "application/vnd.jupyter.widget-view+json": {
              "model_id": "19c930f8c343441fb33b16c1912b255d",
              "version_major": 2,
              "version_minor": 0
            },
            "text/plain": [
              "HBox(children=(FloatProgress(value=0.0, max=3589.0), HTML(value='')))"
            ]
          },
          "metadata": {
            "tags": []
          }
        },
        {
          "output_type": "stream",
          "text": [
            "\n",
            "0.9961336166358961 0.8963499582056167\n"
          ],
          "name": "stdout"
        },
        {
          "output_type": "display_data",
          "data": {
            "application/vnd.jupyter.widget-view+json": {
              "model_id": "5f6ee6eecc964ad49cbaaa2c6944b002",
              "version_major": 2,
              "version_minor": 0
            },
            "text/plain": [
              "HBox(children=(FloatProgress(value=0.0, max=449.0), HTML(value='')))"
            ]
          },
          "metadata": {
            "tags": []
          }
        },
        {
          "output_type": "stream",
          "text": [
            "\n"
          ],
          "name": "stdout"
        },
        {
          "output_type": "error",
          "ename": "KeyboardInterrupt",
          "evalue": "",
          "traceback": [
            "\u001b[0;31m---------------------------------------------------------------------------\u001b[0m",
            "\u001b[0;31mKeyboardInterrupt\u001b[0m                         Traceback (most recent call last)",
            "\u001b[0;32m<ipython-input-17-9cc6fa1e415f>\u001b[0m in \u001b[0;36m<module>\u001b[0;34m\u001b[0m\n\u001b[1;32m     24\u001b[0m     \u001b[0;32mwith\u001b[0m \u001b[0mtqdm\u001b[0m\u001b[0;34m(\u001b[0m\u001b[0mtotal\u001b[0m\u001b[0;34m=\u001b[0m\u001b[0mlen\u001b[0m\u001b[0;34m(\u001b[0m\u001b[0mtrain_dataloader\u001b[0m\u001b[0;34m)\u001b[0m\u001b[0;34m)\u001b[0m \u001b[0;32mas\u001b[0m \u001b[0mpbar\u001b[0m\u001b[0;34m:\u001b[0m \u001b[0;31m# SUB PROGRESS BAR 1 / total=46 is the amount of batches made when choosing batch_size=64\u001b[0m\u001b[0;34m\u001b[0m\u001b[0;34m\u001b[0m\u001b[0m\n\u001b[1;32m     25\u001b[0m         \u001b[0;32mfor\u001b[0m \u001b[0midx\u001b[0m\u001b[0;34m,\u001b[0m \u001b[0msample\u001b[0m \u001b[0;32min\u001b[0m \u001b[0menumerate\u001b[0m\u001b[0;34m(\u001b[0m\u001b[0mtrain_dataloader\u001b[0m\u001b[0;34m)\u001b[0m\u001b[0;34m:\u001b[0m  \u001b[0;31m#for each of the 46 batches of images when batch_size is 64\u001b[0m\u001b[0;34m\u001b[0m\u001b[0;34m\u001b[0m\u001b[0m\n\u001b[0;32m---> 26\u001b[0;31m             \u001b[0mcurr_loss\u001b[0m\u001b[0;34m,\u001b[0m \u001b[0mnum_correct\u001b[0m \u001b[0;34m=\u001b[0m \u001b[0mtrain\u001b[0m\u001b[0;34m(\u001b[0m\u001b[0mmodel\u001b[0m\u001b[0;34m,\u001b[0m \u001b[0moptimizer\u001b[0m\u001b[0;34m,\u001b[0m \u001b[0msample\u001b[0m\u001b[0;34m)\u001b[0m  \u001b[0;31m#call train and save current pred_loss and num_correct\u001b[0m\u001b[0;34m\u001b[0m\u001b[0;34m\u001b[0m\u001b[0m\n\u001b[0m\u001b[1;32m     27\u001b[0m             \u001b[0mtrain_loss\u001b[0m \u001b[0;34m+=\u001b[0m \u001b[0mcurr_loss\u001b[0m \u001b[0;34m/\u001b[0m \u001b[0mlen\u001b[0m\u001b[0;34m(\u001b[0m\u001b[0mtrain_dataloader\u001b[0m\u001b[0;34m)\u001b[0m \u001b[0;31m#average of training loss (loss of each batch / amount of batches)\u001b[0m\u001b[0;34m\u001b[0m\u001b[0;34m\u001b[0m\u001b[0m\n\u001b[1;32m     28\u001b[0m             \u001b[0mtrain_accu\u001b[0m \u001b[0;34m+=\u001b[0m \u001b[0mnum_correct\u001b[0m \u001b[0;34m/\u001b[0m \u001b[0mlen\u001b[0m\u001b[0;34m(\u001b[0m\u001b[0mtrain_dataset\u001b[0m\u001b[0;34m)\u001b[0m  \u001b[0;31m#average of training accuracy (correct predicitions / amount of total images)\u001b[0m\u001b[0;34m\u001b[0m\u001b[0;34m\u001b[0m\u001b[0m\n",
            "\u001b[0;32m<ipython-input-14-6fa453457a9d>\u001b[0m in \u001b[0;36mtrain\u001b[0;34m(model, optimizer, sample)\u001b[0m\n\u001b[1;32m      5\u001b[0m     \u001b[0mcriterion\u001b[0m \u001b[0;34m=\u001b[0m \u001b[0mnn\u001b[0m\u001b[0;34m.\u001b[0m\u001b[0mCrossEntropyLoss\u001b[0m\u001b[0;34m(\u001b[0m\u001b[0;34m)\u001b[0m \u001b[0;31m#loss function (CrossEntropy convenient when training for many classes)\u001b[0m\u001b[0;34m\u001b[0m\u001b[0;34m\u001b[0m\u001b[0m\n\u001b[1;32m      6\u001b[0m \u001b[0;34m\u001b[0m\u001b[0m\n\u001b[0;32m----> 7\u001b[0;31m     \u001b[0moptimizer\u001b[0m\u001b[0;34m.\u001b[0m\u001b[0mzero_grad\u001b[0m\u001b[0;34m(\u001b[0m\u001b[0;34m)\u001b[0m \u001b[0;31m# setting gradients to zero before starting backpropagation (PyTorch accumulates the gradients on subsequent backward passes)\u001b[0m\u001b[0;34m\u001b[0m\u001b[0;34m\u001b[0m\u001b[0m\n\u001b[0m\u001b[1;32m      8\u001b[0m \u001b[0;34m\u001b[0m\u001b[0m\n\u001b[1;32m      9\u001b[0m     \u001b[0minp\u001b[0m \u001b[0;34m=\u001b[0m \u001b[0mnp\u001b[0m\u001b[0;34m.\u001b[0m\u001b[0mrepeat\u001b[0m\u001b[0;34m(\u001b[0m\u001b[0msample\u001b[0m\u001b[0;34m[\u001b[0m\u001b[0;34m'input'\u001b[0m\u001b[0;34m]\u001b[0m\u001b[0;34m.\u001b[0m\u001b[0msqueeze\u001b[0m\u001b[0;34m(\u001b[0m\u001b[0;34m)\u001b[0m\u001b[0;34m[\u001b[0m\u001b[0;34m...\u001b[0m\u001b[0;34m,\u001b[0m \u001b[0mnp\u001b[0m\u001b[0;34m.\u001b[0m\u001b[0mnewaxis\u001b[0m\u001b[0;34m]\u001b[0m\u001b[0;34m,\u001b[0m \u001b[0;36m3\u001b[0m\u001b[0;34m,\u001b[0m \u001b[0;34m-\u001b[0m\u001b[0;36m1\u001b[0m\u001b[0;34m)\u001b[0m\u001b[0;34m\u001b[0m\u001b[0;34m\u001b[0m\u001b[0m\n",
            "\u001b[0;32m~/ENTER/lib/python3.7/site-packages/torch/optim/optimizer.py\u001b[0m in \u001b[0;36mzero_grad\u001b[0;34m(self, set_to_none)\u001b[0m\n\u001b[1;32m    190\u001b[0m                         \u001b[0;32melse\u001b[0m\u001b[0;34m:\u001b[0m\u001b[0;34m\u001b[0m\u001b[0;34m\u001b[0m\u001b[0m\n\u001b[1;32m    191\u001b[0m                             \u001b[0mp\u001b[0m\u001b[0;34m.\u001b[0m\u001b[0mgrad\u001b[0m\u001b[0;34m.\u001b[0m\u001b[0mrequires_grad_\u001b[0m\u001b[0;34m(\u001b[0m\u001b[0;32mFalse\u001b[0m\u001b[0;34m)\u001b[0m\u001b[0;34m\u001b[0m\u001b[0;34m\u001b[0m\u001b[0m\n\u001b[0;32m--> 192\u001b[0;31m                         \u001b[0mp\u001b[0m\u001b[0;34m.\u001b[0m\u001b[0mgrad\u001b[0m\u001b[0;34m.\u001b[0m\u001b[0mzero_\u001b[0m\u001b[0;34m(\u001b[0m\u001b[0;34m)\u001b[0m\u001b[0;34m\u001b[0m\u001b[0;34m\u001b[0m\u001b[0m\n\u001b[0m\u001b[1;32m    193\u001b[0m \u001b[0;34m\u001b[0m\u001b[0m\n\u001b[1;32m    194\u001b[0m     \u001b[0;32mdef\u001b[0m \u001b[0mstep\u001b[0m\u001b[0;34m(\u001b[0m\u001b[0mself\u001b[0m\u001b[0;34m,\u001b[0m \u001b[0mclosure\u001b[0m\u001b[0;34m)\u001b[0m\u001b[0;34m:\u001b[0m\u001b[0;34m\u001b[0m\u001b[0;34m\u001b[0m\u001b[0m\n",
            "\u001b[0;31mKeyboardInterrupt\u001b[0m: "
          ]
        }
      ]
    },
    {
      "cell_type": "code",
      "metadata": {
        "id": "zLS6dW97cHGH",
        "outputId": "3a439b90-f64e-426c-d444-a158339f90ac"
      },
      "source": [
        "#Lodaing saved model\n",
        "best_path=torch.load('./models/face_11.pth')\n",
        "model.load_state_dict(best_path['model_state_dict'])"
      ],
      "execution_count": null,
      "outputs": [
        {
          "output_type": "execute_result",
          "data": {
            "text/plain": [
              "<All keys matched successfully>"
            ]
          },
          "metadata": {
            "tags": []
          },
          "execution_count": 18
        }
      ]
    },
    {
      "cell_type": "code",
      "metadata": {
        "colab": {
          "referenced_widgets": [
            "827609c3870441409cdd0a815ec501cc"
          ]
        },
        "id": "APevtFv7cHGI",
        "outputId": "af85a8cd-4946-444f-ed79-b2cfd7d4476a"
      },
      "source": [
        "# Reporting on test set\n",
        "test_loss = 0.0\n",
        "test_accu = 0.0\n",
        "\n",
        "    # Iterate over the val_dataloader\n",
        "with tqdm(total=len(test_dataloader)) as pbar: # SUB PROGRESS BAR 2, up to 586 because that's the number of images in the 1 batch of val_dataloader\n",
        "    for idx, sample in enumerate(test_dataloader): # for each of the 586 images\n",
        "            curr_loss, num_correct,_ = validate(model, sample)\n",
        "            test_loss += curr_loss / len(test_dataloader) # average validation loss\n",
        "            test_accu += num_correct / len(test_dataloader) # average accuracy\n",
        "            pbar.update(1) # update SUB PROGRESS BAR 2\n",
        "            \n",
        "print(test_loss, test_accu)"
      ],
      "execution_count": null,
      "outputs": [
        {
          "output_type": "display_data",
          "data": {
            "application/vnd.jupyter.widget-view+json": {
              "model_id": "827609c3870441409cdd0a815ec501cc",
              "version_major": 2,
              "version_minor": 0
            },
            "text/plain": [
              "HBox(children=(FloatProgress(value=0.0, max=3589.0), HTML(value='')))"
            ]
          },
          "metadata": {
            "tags": []
          }
        },
        {
          "output_type": "stream",
          "text": [
            "\n",
            "1.2688768197668117 0.9077737531345661\n"
          ],
          "name": "stdout"
        }
      ]
    },
    {
      "cell_type": "code",
      "metadata": {
        "id": "qmWRY1spcHGJ",
        "outputId": "3b520b80-ceab-42a6-a3c0-bf8a4e7f54bd"
      },
      "source": [
        "print('Accuracy reported on unseen test set: ', test_accu)"
      ],
      "execution_count": null,
      "outputs": [
        {
          "output_type": "stream",
          "text": [
            "Accuracy reported on unseen test set:  0.9077737531345661\n"
          ],
          "name": "stdout"
        }
      ]
    },
    {
      "cell_type": "code",
      "metadata": {
        "colab": {
          "referenced_widgets": [
            "291a8f55136a4bd3bd2c6afe7c9037f3"
          ]
        },
        "id": "Vjc6H4_RcHGJ",
        "outputId": "c6496602-927c-4583-9442-eaee39d55d62"
      },
      "source": [
        "##Creating confusion matrix based on test set\n",
        "nb_classes = 7\n",
        "predictions= np.zeros(len(test_set))\n",
        "labels= np.zeros(len(test_set))\n",
        "\n",
        "with tqdm(total=len(test_dataloader)) as pbar:\n",
        "    confusion_matrix = torch.zeros(nb_classes, nb_classes)\n",
        "    with torch.no_grad():\n",
        "        for idx, sample in enumerate(test_dataloader):\n",
        "            labels[idx]=sample['target'].item()\n",
        "            _, _, outputs = validate(model, sample)\n",
        "            _, preds = torch.max(outputs, 1)\n",
        "            predictions[idx] = preds\n",
        "            for t, p in zip(sample['target'].view(-1), preds.view(-1)):\n",
        "                confusion_matrix[t.long(), p.long()] += 1\n",
        "            pbar.update(1) # update SUB PROGRESS BAR 2\n",
        "\n",
        "print(confusion_matrix)"
      ],
      "execution_count": null,
      "outputs": [
        {
          "output_type": "display_data",
          "data": {
            "application/vnd.jupyter.widget-view+json": {
              "model_id": "291a8f55136a4bd3bd2c6afe7c9037f3",
              "version_major": 2,
              "version_minor": 0
            },
            "text/plain": [
              "HBox(children=(FloatProgress(value=0.0, max=3589.0), HTML(value='')))"
            ]
          },
          "metadata": {
            "tags": []
          }
        },
        {
          "output_type": "stream",
          "text": [
            "\n",
            "tensor([[274.,   2.,  54.,  24.,  48.,  84.,  10.],\n",
            "        [  6.,  28.,   4.,   2.,   3.,   4.,   1.],\n",
            "        [ 47.,   0., 244.,  16.,  31., 116.,  33.],\n",
            "        [ 18.,   1.,  18., 744.,  38.,  43.,  19.],\n",
            "        [ 32.,   0.,  44.,  48., 370., 129.,   1.],\n",
            "        [ 63.,   3., 101.,  33.,  92., 349.,   6.],\n",
            "        [ 10.,   0.,  39.,  24.,  12.,   7., 314.]])\n"
          ],
          "name": "stdout"
        }
      ]
    },
    {
      "cell_type": "code",
      "metadata": {
        "id": "cnebWpQocHGJ",
        "outputId": "37783c7e-ef7a-4c17-f992-9bd5fa8986a8"
      },
      "source": [
        "##Plotting confusion matrix as seaborn heatmap\n",
        "\n",
        "import seaborn as sns    \n",
        "\n",
        "ax= plt.subplot()\n",
        "sns.heatmap(confusion_matrix, annot=True, ax = ax,fmt='g',cmap='Greens'); #annot=True to annotate cells\n",
        "\n",
        "# labels, title and ticks\n",
        "plt.yticks(rotation=0)\n",
        "plt.xticks(rotation=-20)\n",
        "ax.set_xlabel('Predicted labels');ax.set_ylabel('True labels'); \n",
        "ax.set_title('Confusion Matrix'); \n",
        "ax.xaxis.set_ticklabels([\"angry\",\"disgust\",\"fear\",\"happy\", \"sad\",\"surprise\",\"neutral\"]); ax.yaxis.set_ticklabels([\"angry\",\"disgust\",\"fear\",\"happy\", \"sad\",\"surprise\",\"neutral\"]);"
      ],
      "execution_count": null,
      "outputs": [
        {
          "output_type": "display_data",
          "data": {
            "image/png": "[encoded data removed]",
            "text/plain": [
              "<Figure size 432x288 with 2 Axes>"
            ]
          },
          "metadata": {
            "tags": [],
            "needs_background": "light"
          }
        }
      ]
    },
    {
      "cell_type": "code",
      "metadata": {
        "id": "3x0_XTeqcHGK",
        "outputId": "87ff838c-9622-4280-8135-ffa020c06f8e"
      },
      "source": [
        "##Plotting train vs. validation accuracy curve\n",
        "arr_epochs =np.array(epochs_list)\n",
        "arr_val =np.array(val_list)\n",
        "arr_train = np.array(train_list)\n",
        "print(arr_epochs.shape)\n",
        "print(arr_val.shape)\n",
        "print(arr_train.shape)\n",
        "\n",
        "\n",
        "f = plt.figure()\n",
        "ax = f.add_subplot(111)\n",
        "ax.plot(arr_epochs, arr_val,  label=\"Validation accuracy\")\n",
        "ax.plot(arr_epochs, arr_train,  label=\"Train accuracy\")\n",
        "ax.legend()\n",
        "\n",
        "ax.set_xlabel('Epochs')\n",
        "ax.set_ylabel('Accuracy')\n",
        "ax.set_title('Train vs. Validation accuracy')"
      ],
      "execution_count": null,
      "outputs": [
        {
          "output_type": "stream",
          "text": [
            "(6,)\n",
            "(6,)\n",
            "(6,)\n"
          ],
          "name": "stdout"
        },
        {
          "output_type": "execute_result",
          "data": {
            "text/plain": [
              "Text(0.5, 1.0, 'Train vs. Validation accuracy')"
            ]
          },
          "metadata": {
            "tags": []
          },
          "execution_count": 23
        },
        {
          "output_type": "display_data",
          "data": {
            "image/png": "[encoded data removed]",
            "text/plain": [
              "<Figure size 432x288 with 1 Axes>"
            ]
          },
          "metadata": {
            "tags": [],
            "needs_background": "light"
          }
        }
      ]
    },
    {
      "cell_type": "code",
      "metadata": {
        "id": "5lFauvzUcHGK"
      },
      "source": [
        ""
      ],
      "execution_count": null,
      "outputs": []
    }
  ]
}